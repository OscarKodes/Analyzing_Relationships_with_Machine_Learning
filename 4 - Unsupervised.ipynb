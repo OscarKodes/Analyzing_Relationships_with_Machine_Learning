{
 "cells": [
  {
   "cell_type": "markdown",
   "id": "953e7b4b",
   "metadata": {},
   "source": [
    "# Unsupervised Learning\n",
    "\n",
    "By: Oscar Ko\n",
    "\n",
    "This notebook was created for data analysis and unsupervised machine learning on this dataset from Stanford:\n",
    "\n",
    "https://data.stanford.edu/hcmst2017\n",
    "\n",
    "---\n",
    "---"
   ]
  },
  {
   "cell_type": "markdown",
   "id": "e2aa00b5",
   "metadata": {},
   "source": [
    "# Step 1: Imports and Data\n",
    "\n",
    "Note: Train-Test split will not be done for unsupervised learning because this is for exploration and not testing models."
   ]
  },
  {
   "cell_type": "code",
   "execution_count": 1,
   "id": "f6b994d7",
   "metadata": {
    "scrolled": true
   },
   "outputs": [
    {
     "name": "stdout",
     "output_type": "stream",
     "text": [
      "(2844, 75) \n",
      "\n",
      "<class 'pandas.core.frame.DataFrame'>\n",
      "RangeIndex: 2844 entries, 0 to 2843\n",
      "Data columns (total 75 columns):\n",
      " #   Column                            Non-Null Count  Dtype  \n",
      "---  ------                            --------------  -----  \n",
      " 0   Unnamed: 0                        2844 non-null   int64  \n",
      " 1   ID                                2844 non-null   int64  \n",
      " 2   ageGap                            2844 non-null   float64\n",
      " 3   attendReligiousServiceFreq        2844 non-null   object \n",
      " 4   employmentStatus                  2844 non-null   object \n",
      " 5   genderSubjectAttractedTo          2837 non-null   object \n",
      " 6   houseType                         2844 non-null   object \n",
      " 7   householdAdults_num               2844 non-null   int64  \n",
      " 8   householdIncome                   2844 non-null   int64  \n",
      " 9   householdMinor_num                2844 non-null   int64  \n",
      " 10  householdSize                     2844 non-null   int64  \n",
      " 11  interracial                       2822 non-null   object \n",
      " 12  isHispanic                        2844 non-null   bool   \n",
      " 13  isLivingTogether                  2844 non-null   object \n",
      " 14  isMarried                         2844 non-null   object \n",
      " 15  isMetroArea                       2844 non-null   object \n",
      " 16  metAs_coworkers                   2780 non-null   object \n",
      " 17  metAs_customerAndClient           2780 non-null   object \n",
      " 18  metAs_workNeighbors               2780 non-null   object \n",
      " 19  metIn_church                      2780 non-null   object \n",
      " 20  metIn_college                     2780 non-null   object \n",
      " 21  metIn_military                    2780 non-null   object \n",
      " 22  metIn_privateParty                2780 non-null   object \n",
      " 23  metIn_public                      2780 non-null   object \n",
      " 24  metIn_restaurantOrBar             2780 non-null   object \n",
      " 25  metIn_school                      2780 non-null   object \n",
      " 26  metIn_voluntaryOrg                2780 non-null   object \n",
      " 27  metOn_blindDate                   2780 non-null   object \n",
      " 28  metOn_businessTrip                2780 non-null   object \n",
      " 29  metOn_vacation                    2780 non-null   object \n",
      " 30  metOnline_all                     2844 non-null   object \n",
      " 31  metOnline_chat                    2780 non-null   object \n",
      " 32  metOnline_datingSiteOrApp         2780 non-null   object \n",
      " 33  metOnline_gaming                  2780 non-null   object \n",
      " 34  metOnline_nonDatingSite           2780 non-null   object \n",
      " 35  metOnline_other                   2780 non-null   object \n",
      " 36  metOnline_socialNetwork           2780 non-null   object \n",
      " 37  metThru_family                    2780 non-null   object \n",
      " 38  metThru_friend                    2780 non-null   object \n",
      " 39  metThru_notInternetDatingService  2780 non-null   object \n",
      " 40  metThru_orAs_neighbors            2780 non-null   object \n",
      " 41  met_YearFraction                  2810 non-null   float64\n",
      " 42  met_to_shipStart_diff             2747 non-null   float64\n",
      " 43  moveIn_YearFraction               2405 non-null   float64\n",
      " 44  numRelativesSeePerMonth           2827 non-null   float64\n",
      " 45  ownHouseRentOther                 2844 non-null   object \n",
      " 46  partnerAge                        2844 non-null   float64\n",
      " 47  partnerEduc_years                 2842 non-null   float64\n",
      " 48  partnerGender                     2844 non-null   object \n",
      " 49  partnerMotherEduc_years           2805 non-null   float64\n",
      " 50  partnerParty_DemPos_RepNeg        2844 non-null   int64  \n",
      " 51  partnerRace                       2844 non-null   object \n",
      " 52  partyDifference                   2844 non-null   int64  \n",
      " 53  region                            2844 non-null   object \n",
      " 54  relationshipQuality               2844 non-null   object \n",
      " 55  relationshipQuality_isGood        2844 non-null   int64  \n",
      " 56  relationshipQuality_num           2844 non-null   int64  \n",
      " 57  season_met                        2818 non-null   object \n",
      " 58  season_shipStart                  2781 non-null   object \n",
      " 59  sexFrequency                      2844 non-null   object \n",
      " 60  shipStart_YearFraction            2757 non-null   float64\n",
      " 61  shipStart_to_moveIn_YearFraction  2354 non-null   float64\n",
      " 62  straightGayLesbian                2844 non-null   object \n",
      " 63  subjectAge                        2844 non-null   int64  \n",
      " 64  subjectAgeWhenMet                 2810 non-null   float64\n",
      " 65  subjectCountryWhenMetPartner      2844 non-null   object \n",
      " 66  subjectEduc_years                 2844 non-null   float64\n",
      " 67  subjectGender                     2844 non-null   object \n",
      " 68  subjectGrewUpInUS                 2844 non-null   object \n",
      " 69  subjectMotherEduc_years           2835 non-null   float64\n",
      " 70  subjectParty_DemPos_RepNeg        2844 non-null   int64  \n",
      " 71  subjectRace                       2834 non-null   object \n",
      " 72  subjectSexualIdentity             2844 non-null   object \n",
      " 73  timesDivorcedOrWidowed            2838 non-null   float64\n",
      " 74  whoEarnedMore                     2844 non-null   object \n",
      "dtypes: bool(1), float64(14), int64(12), object(48)\n",
      "memory usage: 1.6+ MB\n"
     ]
    }
   ],
   "source": [
    "%matplotlib inline\n",
    "import matplotlib.pyplot as plt\n",
    "import numpy as np\n",
    "import pandas as pd\n",
    "import mglearn\n",
    "\n",
    "import warnings\n",
    "warnings.filterwarnings('ignore')\n",
    "\n",
    "df = pd.read_csv(\"data/df_renamed.csv\")\n",
    "\n",
    "print(df.shape, \"\\n\")\n",
    "\n",
    "df.info(verbose=True)"
   ]
  },
  {
   "cell_type": "markdown",
   "id": "27dc7d6f",
   "metadata": {},
   "source": [
    "First drop the other two outcome labels, leaving just \"relationshipQuality_isGood\""
   ]
  },
  {
   "cell_type": "code",
   "execution_count": 2,
   "id": "650c09f2",
   "metadata": {
    "scrolled": true
   },
   "outputs": [
    {
     "name": "stdout",
     "output_type": "stream",
     "text": [
      "Sucessfully removed both columns? True\n"
     ]
    }
   ],
   "source": [
    "# Remove \"relationshipQuality\" and \"relationshipQuality_num\"\n",
    "\n",
    "df = df.drop([\"relationshipQuality\", \"relationshipQuality_num\"], axis=1)\n",
    "\n",
    "success1 = \"relationshipQuality_num\" not in df.columns\n",
    "success2 = \"relationshipQuality\" not in df.columns\n",
    "\n",
    "print(\"Sucessfully removed both columns?\", success1 & success2)"
   ]
  },
  {
   "cell_type": "markdown",
   "id": "85970f59",
   "metadata": {},
   "source": [
    "### Remove unneeded columns"
   ]
  },
  {
   "cell_type": "markdown",
   "id": "2b0b500f",
   "metadata": {},
   "source": [
    "Columns related to couples first moving in together have over 300 missing values. This is due to not all couples moving in together. Since 300 is a large chunk of our 2275 records, I will remove these columns."
   ]
  },
  {
   "cell_type": "code",
   "execution_count": 3,
   "id": "98519240",
   "metadata": {
    "scrolled": true
   },
   "outputs": [],
   "source": [
    "columns_to_remove = [\n",
    "    \"moveIn_YearFraction\",\n",
    "    \"shipStart_to_moveIn_YearFraction\",\n",
    "    \"Unnamed: 0\", # Also Remove column with no useful info\n",
    "    \"ID\" # Also Remove column with no useful info\n",
    "]\n",
    "\n",
    "df.drop(columns_to_remove, axis=1, inplace=True)\n"
   ]
  },
  {
   "cell_type": "markdown",
   "id": "b24f40a3",
   "metadata": {},
   "source": [
    "Since 183 records is not too much compared to the 2275 in total, I will op to remove these missing values."
   ]
  },
  {
   "cell_type": "code",
   "execution_count": 4,
   "id": "a594f54e",
   "metadata": {},
   "outputs": [
    {
     "name": "stdout",
     "output_type": "stream",
     "text": [
      "Cases with missing values: 0\n"
     ]
    }
   ],
   "source": [
    "# Dropping NA values\n",
    "\n",
    "\n",
    "cols_with_na = df.columns[df.isna().any()].tolist()\n",
    "\n",
    "for col in cols_with_na:\n",
    "\n",
    "    indexes = df[col].notna()\n",
    "    df = df[indexes]\n",
    "\n",
    "# filter odd partner age cases\n",
    "age_filter = df[\"partnerAge\"] > 5\n",
    "df = df[age_filter]\n",
    "\n",
    "\n",
    "\n",
    "# Check number of rows with missing values\n",
    "print(\"Cases with missing values:\", df.isna().any(axis=1).sum())"
   ]
  },
  {
   "cell_type": "code",
   "execution_count": 5,
   "id": "f54c7119",
   "metadata": {},
   "outputs": [
    {
     "name": "stdout",
     "output_type": "stream",
     "text": [
      "(2608, 69)\n"
     ]
    }
   ],
   "source": [
    "print(df.shape)"
   ]
  },
  {
   "cell_type": "markdown",
   "id": "ca3d2957",
   "metadata": {},
   "source": [
    "---\n",
    "---\n",
    "\n",
    "# Step 2: Prepare the Data for Machine Learning"
   ]
  },
  {
   "cell_type": "markdown",
   "id": "78f70ac2",
   "metadata": {},
   "source": [
    "### One-Hot Encode Categorical Features"
   ]
  },
  {
   "cell_type": "code",
   "execution_count": 6,
   "id": "bbf48497",
   "metadata": {},
   "outputs": [
    {
     "name": "stdout",
     "output_type": "stream",
     "text": [
      "69 22 47\n",
      "(2608, 69)\n"
     ]
    }
   ],
   "source": [
    "# First get the numeric columns and the categorical columns\n",
    "\n",
    "numeric_features = df._get_numeric_data().columns\n",
    "\n",
    "categorical_features = list(set(df.columns) - set(numeric_features))\n",
    "\n",
    "print(len(df.columns), len(numeric_features), len(categorical_features))\n",
    "\n",
    "print(df.shape)"
   ]
  },
  {
   "cell_type": "code",
   "execution_count": 7,
   "id": "edb4c26b",
   "metadata": {},
   "outputs": [
    {
     "name": "stdout",
     "output_type": "stream",
     "text": [
      "(2608, 110)\n"
     ]
    }
   ],
   "source": [
    "# One hot encode categorical features \n",
    "\n",
    "df = pd.get_dummies(df, columns=categorical_features, drop_first=True)\n",
    "\n",
    "print(df.shape)"
   ]
  },
  {
   "cell_type": "markdown",
   "id": "16b834de",
   "metadata": {},
   "source": [
    "### Feature Scaling on Numeric Columns with Standardization"
   ]
  },
  {
   "cell_type": "code",
   "execution_count": 8,
   "id": "90920f2d",
   "metadata": {},
   "outputs": [
    {
     "name": "stdout",
     "output_type": "stream",
     "text": [
      "(2608, 110)\n"
     ]
    }
   ],
   "source": [
    "# import scaling & column transformer\n",
    "from sklearn.preprocessing import StandardScaler\n",
    "from sklearn.compose import ColumnTransformer\n",
    "\n",
    "# Create a function to scale df\n",
    "\n",
    "def scaleCategoricalFeatures(X_data):\n",
    "    \n",
    "    scaler = StandardScaler()\n",
    "\n",
    "    X_data[numeric_features] = scaler.fit_transform(X_data[numeric_features])\n",
    "    \n",
    "    return X_data\n",
    "\n",
    "df = scaleCategoricalFeatures(df)\n",
    "\n",
    "print(df.shape)"
   ]
  },
  {
   "cell_type": "markdown",
   "id": "e82a6f9e",
   "metadata": {},
   "source": [
    "### Make sure it worked by seeing if Standard Deviations of Numeric Columns are 1"
   ]
  },
  {
   "cell_type": "code",
   "execution_count": 23,
   "id": "46bc5f17",
   "metadata": {},
   "outputs": [
    {
     "data": {
      "text/html": [
       "<div>\n",
       "<style scoped>\n",
       "    .dataframe tbody tr th:only-of-type {\n",
       "        vertical-align: middle;\n",
       "    }\n",
       "\n",
       "    .dataframe tbody tr th {\n",
       "        vertical-align: top;\n",
       "    }\n",
       "\n",
       "    .dataframe thead th {\n",
       "        text-align: right;\n",
       "    }\n",
       "</style>\n",
       "<table border=\"1\" class=\"dataframe\">\n",
       "  <thead>\n",
       "    <tr style=\"text-align: right;\">\n",
       "      <th></th>\n",
       "      <th>ageGap</th>\n",
       "      <th>householdAdults_num</th>\n",
       "      <th>householdIncome</th>\n",
       "      <th>householdMinor_num</th>\n",
       "      <th>householdSize</th>\n",
       "      <th>isHispanic</th>\n",
       "      <th>met_YearFraction</th>\n",
       "      <th>met_to_shipStart_diff</th>\n",
       "      <th>numRelativesSeePerMonth</th>\n",
       "      <th>partnerAge</th>\n",
       "      <th>...</th>\n",
       "      <th>whoEarnedMore_We earned about the same amount</th>\n",
       "      <th>whoEarnedMore_[Partner Name] earned more</th>\n",
       "      <th>whoEarnedMore_[Partner Name] was not working for pay</th>\n",
       "      <th>subjectSexualIdentity_Something else</th>\n",
       "      <th>subjectSexualIdentity_bisexual</th>\n",
       "      <th>subjectSexualIdentity_gay</th>\n",
       "      <th>subjectSexualIdentity_heterosexual or straight</th>\n",
       "      <th>subjectSexualIdentity_lesbian</th>\n",
       "      <th>metIn_privateParty_yes</th>\n",
       "      <th>metOnline_datingSiteOrApp_yes</th>\n",
       "    </tr>\n",
       "  </thead>\n",
       "  <tbody>\n",
       "    <tr>\n",
       "      <th>count</th>\n",
       "      <td>2.608000e+03</td>\n",
       "      <td>2.608000e+03</td>\n",
       "      <td>2.608000e+03</td>\n",
       "      <td>2.608000e+03</td>\n",
       "      <td>2.608000e+03</td>\n",
       "      <td>2.608000e+03</td>\n",
       "      <td>2.608000e+03</td>\n",
       "      <td>2.608000e+03</td>\n",
       "      <td>2.608000e+03</td>\n",
       "      <td>2.608000e+03</td>\n",
       "      <td>...</td>\n",
       "      <td>2608.000000</td>\n",
       "      <td>2608.000000</td>\n",
       "      <td>2608.000000</td>\n",
       "      <td>2608.000000</td>\n",
       "      <td>2608.000000</td>\n",
       "      <td>2608.000000</td>\n",
       "      <td>2608.000000</td>\n",
       "      <td>2608.00000</td>\n",
       "      <td>2608.000000</td>\n",
       "      <td>2608.000000</td>\n",
       "    </tr>\n",
       "    <tr>\n",
       "      <th>mean</th>\n",
       "      <td>-1.911389e-17</td>\n",
       "      <td>5.295270e-16</td>\n",
       "      <td>4.729516e-17</td>\n",
       "      <td>2.354116e-16</td>\n",
       "      <td>9.970722e-16</td>\n",
       "      <td>-4.572007e-16</td>\n",
       "      <td>-1.432647e-15</td>\n",
       "      <td>-6.055568e-17</td>\n",
       "      <td>-2.062086e-16</td>\n",
       "      <td>-1.873076e-16</td>\n",
       "      <td>...</td>\n",
       "      <td>0.119632</td>\n",
       "      <td>0.413727</td>\n",
       "      <td>0.060199</td>\n",
       "      <td>0.006135</td>\n",
       "      <td>0.082439</td>\n",
       "      <td>0.045629</td>\n",
       "      <td>0.839340</td>\n",
       "      <td>0.02569</td>\n",
       "      <td>0.100077</td>\n",
       "      <td>0.059816</td>\n",
       "    </tr>\n",
       "    <tr>\n",
       "      <th>std</th>\n",
       "      <td>1.000192e+00</td>\n",
       "      <td>1.000192e+00</td>\n",
       "      <td>1.000192e+00</td>\n",
       "      <td>1.000192e+00</td>\n",
       "      <td>1.000192e+00</td>\n",
       "      <td>1.000192e+00</td>\n",
       "      <td>1.000192e+00</td>\n",
       "      <td>1.000192e+00</td>\n",
       "      <td>1.000192e+00</td>\n",
       "      <td>1.000192e+00</td>\n",
       "      <td>...</td>\n",
       "      <td>0.324593</td>\n",
       "      <td>0.492595</td>\n",
       "      <td>0.237901</td>\n",
       "      <td>0.078100</td>\n",
       "      <td>0.275085</td>\n",
       "      <td>0.208719</td>\n",
       "      <td>0.367287</td>\n",
       "      <td>0.15824</td>\n",
       "      <td>0.300160</td>\n",
       "      <td>0.237191</td>\n",
       "    </tr>\n",
       "    <tr>\n",
       "      <th>min</th>\n",
       "      <td>-8.606632e-01</td>\n",
       "      <td>-1.377801e+00</td>\n",
       "      <td>-1.354838e+00</td>\n",
       "      <td>-5.494640e-01</td>\n",
       "      <td>-1.263476e+00</td>\n",
       "      <td>-3.632416e-01</td>\n",
       "      <td>-3.276599e+00</td>\n",
       "      <td>-3.668050e-01</td>\n",
       "      <td>-6.828172e-01</td>\n",
       "      <td>-2.427833e+00</td>\n",
       "      <td>...</td>\n",
       "      <td>0.000000</td>\n",
       "      <td>0.000000</td>\n",
       "      <td>0.000000</td>\n",
       "      <td>0.000000</td>\n",
       "      <td>0.000000</td>\n",
       "      <td>0.000000</td>\n",
       "      <td>0.000000</td>\n",
       "      <td>0.00000</td>\n",
       "      <td>0.000000</td>\n",
       "      <td>0.000000</td>\n",
       "    </tr>\n",
       "    <tr>\n",
       "      <th>25%</th>\n",
       "      <td>-6.529444e-01</td>\n",
       "      <td>-2.279434e-01</td>\n",
       "      <td>-7.208737e-01</td>\n",
       "      <td>-5.494640e-01</td>\n",
       "      <td>-5.395865e-01</td>\n",
       "      <td>-3.632416e-01</td>\n",
       "      <td>-7.646044e-01</td>\n",
       "      <td>-3.668050e-01</td>\n",
       "      <td>-6.828172e-01</td>\n",
       "      <td>-8.752847e-01</td>\n",
       "      <td>...</td>\n",
       "      <td>0.000000</td>\n",
       "      <td>0.000000</td>\n",
       "      <td>0.000000</td>\n",
       "      <td>0.000000</td>\n",
       "      <td>0.000000</td>\n",
       "      <td>0.000000</td>\n",
       "      <td>1.000000</td>\n",
       "      <td>0.00000</td>\n",
       "      <td>0.000000</td>\n",
       "      <td>0.000000</td>\n",
       "    </tr>\n",
       "    <tr>\n",
       "      <th>50%</th>\n",
       "      <td>-2.375067e-01</td>\n",
       "      <td>-2.279434e-01</td>\n",
       "      <td>-1.987858e-01</td>\n",
       "      <td>-5.494640e-01</td>\n",
       "      <td>-5.395865e-01</td>\n",
       "      <td>-3.632416e-01</td>\n",
       "      <td>1.965890e-01</td>\n",
       "      <td>-3.284706e-01</td>\n",
       "      <td>-2.901409e-01</td>\n",
       "      <td>5.624415e-02</td>\n",
       "      <td>...</td>\n",
       "      <td>0.000000</td>\n",
       "      <td>0.000000</td>\n",
       "      <td>0.000000</td>\n",
       "      <td>0.000000</td>\n",
       "      <td>0.000000</td>\n",
       "      <td>0.000000</td>\n",
       "      <td>1.000000</td>\n",
       "      <td>0.00000</td>\n",
       "      <td>0.000000</td>\n",
       "      <td>0.000000</td>\n",
       "    </tr>\n",
       "    <tr>\n",
       "      <th>75%</th>\n",
       "      <td>1.779309e-01</td>\n",
       "      <td>-2.279434e-01</td>\n",
       "      <td>6.589301e-01</td>\n",
       "      <td>4.547421e-01</td>\n",
       "      <td>9.081929e-01</td>\n",
       "      <td>-3.632416e-01</td>\n",
       "      <td>8.555581e-01</td>\n",
       "      <td>-1.177716e-01</td>\n",
       "      <td>2.988737e-01</td>\n",
       "      <td>8.014672e-01</td>\n",
       "      <td>...</td>\n",
       "      <td>0.000000</td>\n",
       "      <td>1.000000</td>\n",
       "      <td>0.000000</td>\n",
       "      <td>0.000000</td>\n",
       "      <td>0.000000</td>\n",
       "      <td>0.000000</td>\n",
       "      <td>1.000000</td>\n",
       "      <td>0.00000</td>\n",
       "      <td>0.000000</td>\n",
       "      <td>0.000000</td>\n",
       "    </tr>\n",
       "    <tr>\n",
       "      <th>max</th>\n",
       "      <td>8.486684e+00</td>\n",
       "      <td>7.821058e+00</td>\n",
       "      <td>3.082910e+00</td>\n",
       "      <td>7.484184e+00</td>\n",
       "      <td>5.251531e+00</td>\n",
       "      <td>2.752989e+00</td>\n",
       "      <td>1.380740e+00</td>\n",
       "      <td>1.221991e+01</td>\n",
       "      <td>9.134092e+00</td>\n",
       "      <td>2.850831e+00</td>\n",
       "      <td>...</td>\n",
       "      <td>1.000000</td>\n",
       "      <td>1.000000</td>\n",
       "      <td>1.000000</td>\n",
       "      <td>1.000000</td>\n",
       "      <td>1.000000</td>\n",
       "      <td>1.000000</td>\n",
       "      <td>1.000000</td>\n",
       "      <td>1.00000</td>\n",
       "      <td>1.000000</td>\n",
       "      <td>1.000000</td>\n",
       "    </tr>\n",
       "  </tbody>\n",
       "</table>\n",
       "<p>8 rows × 110 columns</p>\n",
       "</div>"
      ],
      "text/plain": [
       "             ageGap  householdAdults_num  householdIncome  householdMinor_num  \\\n",
       "count  2.608000e+03         2.608000e+03     2.608000e+03        2.608000e+03   \n",
       "mean  -1.911389e-17         5.295270e-16     4.729516e-17        2.354116e-16   \n",
       "std    1.000192e+00         1.000192e+00     1.000192e+00        1.000192e+00   \n",
       "min   -8.606632e-01        -1.377801e+00    -1.354838e+00       -5.494640e-01   \n",
       "25%   -6.529444e-01        -2.279434e-01    -7.208737e-01       -5.494640e-01   \n",
       "50%   -2.375067e-01        -2.279434e-01    -1.987858e-01       -5.494640e-01   \n",
       "75%    1.779309e-01        -2.279434e-01     6.589301e-01        4.547421e-01   \n",
       "max    8.486684e+00         7.821058e+00     3.082910e+00        7.484184e+00   \n",
       "\n",
       "       householdSize    isHispanic  met_YearFraction  met_to_shipStart_diff  \\\n",
       "count   2.608000e+03  2.608000e+03      2.608000e+03           2.608000e+03   \n",
       "mean    9.970722e-16 -4.572007e-16     -1.432647e-15          -6.055568e-17   \n",
       "std     1.000192e+00  1.000192e+00      1.000192e+00           1.000192e+00   \n",
       "min    -1.263476e+00 -3.632416e-01     -3.276599e+00          -3.668050e-01   \n",
       "25%    -5.395865e-01 -3.632416e-01     -7.646044e-01          -3.668050e-01   \n",
       "50%    -5.395865e-01 -3.632416e-01      1.965890e-01          -3.284706e-01   \n",
       "75%     9.081929e-01 -3.632416e-01      8.555581e-01          -1.177716e-01   \n",
       "max     5.251531e+00  2.752989e+00      1.380740e+00           1.221991e+01   \n",
       "\n",
       "       numRelativesSeePerMonth    partnerAge  ...  \\\n",
       "count             2.608000e+03  2.608000e+03  ...   \n",
       "mean             -2.062086e-16 -1.873076e-16  ...   \n",
       "std               1.000192e+00  1.000192e+00  ...   \n",
       "min              -6.828172e-01 -2.427833e+00  ...   \n",
       "25%              -6.828172e-01 -8.752847e-01  ...   \n",
       "50%              -2.901409e-01  5.624415e-02  ...   \n",
       "75%               2.988737e-01  8.014672e-01  ...   \n",
       "max               9.134092e+00  2.850831e+00  ...   \n",
       "\n",
       "       whoEarnedMore_We earned about the same amount  \\\n",
       "count                                    2608.000000   \n",
       "mean                                        0.119632   \n",
       "std                                         0.324593   \n",
       "min                                         0.000000   \n",
       "25%                                         0.000000   \n",
       "50%                                         0.000000   \n",
       "75%                                         0.000000   \n",
       "max                                         1.000000   \n",
       "\n",
       "       whoEarnedMore_[Partner Name] earned more  \\\n",
       "count                               2608.000000   \n",
       "mean                                   0.413727   \n",
       "std                                    0.492595   \n",
       "min                                    0.000000   \n",
       "25%                                    0.000000   \n",
       "50%                                    0.000000   \n",
       "75%                                    1.000000   \n",
       "max                                    1.000000   \n",
       "\n",
       "       whoEarnedMore_[Partner Name] was not working for pay  \\\n",
       "count                                        2608.000000      \n",
       "mean                                            0.060199      \n",
       "std                                             0.237901      \n",
       "min                                             0.000000      \n",
       "25%                                             0.000000      \n",
       "50%                                             0.000000      \n",
       "75%                                             0.000000      \n",
       "max                                             1.000000      \n",
       "\n",
       "       subjectSexualIdentity_Something else  subjectSexualIdentity_bisexual  \\\n",
       "count                           2608.000000                     2608.000000   \n",
       "mean                               0.006135                        0.082439   \n",
       "std                                0.078100                        0.275085   \n",
       "min                                0.000000                        0.000000   \n",
       "25%                                0.000000                        0.000000   \n",
       "50%                                0.000000                        0.000000   \n",
       "75%                                0.000000                        0.000000   \n",
       "max                                1.000000                        1.000000   \n",
       "\n",
       "       subjectSexualIdentity_gay  \\\n",
       "count                2608.000000   \n",
       "mean                    0.045629   \n",
       "std                     0.208719   \n",
       "min                     0.000000   \n",
       "25%                     0.000000   \n",
       "50%                     0.000000   \n",
       "75%                     0.000000   \n",
       "max                     1.000000   \n",
       "\n",
       "       subjectSexualIdentity_heterosexual or straight  \\\n",
       "count                                     2608.000000   \n",
       "mean                                         0.839340   \n",
       "std                                          0.367287   \n",
       "min                                          0.000000   \n",
       "25%                                          1.000000   \n",
       "50%                                          1.000000   \n",
       "75%                                          1.000000   \n",
       "max                                          1.000000   \n",
       "\n",
       "       subjectSexualIdentity_lesbian  metIn_privateParty_yes  \\\n",
       "count                     2608.00000             2608.000000   \n",
       "mean                         0.02569                0.100077   \n",
       "std                          0.15824                0.300160   \n",
       "min                          0.00000                0.000000   \n",
       "25%                          0.00000                0.000000   \n",
       "50%                          0.00000                0.000000   \n",
       "75%                          0.00000                0.000000   \n",
       "max                          1.00000                1.000000   \n",
       "\n",
       "       metOnline_datingSiteOrApp_yes  \n",
       "count                    2608.000000  \n",
       "mean                        0.059816  \n",
       "std                         0.237191  \n",
       "min                         0.000000  \n",
       "25%                         0.000000  \n",
       "50%                         0.000000  \n",
       "75%                         0.000000  \n",
       "max                         1.000000  \n",
       "\n",
       "[8 rows x 110 columns]"
      ]
     },
     "execution_count": 23,
     "metadata": {},
     "output_type": "execute_result"
    }
   ],
   "source": [
    "df.describe()"
   ]
  },
  {
   "cell_type": "code",
   "execution_count": 9,
   "id": "5ad1f40c",
   "metadata": {},
   "outputs": [
    {
     "name": "stdout",
     "output_type": "stream",
     "text": [
      "<class 'pandas.core.frame.DataFrame'>\n",
      "Int64Index: 2608 entries, 0 to 2843\n",
      "Data columns (total 110 columns):\n",
      " #    Column                                                                                        Dtype  \n",
      "---   ------                                                                                        -----  \n",
      " 0    ageGap                                                                                        float64\n",
      " 1    attendReligiousServiceFreq_More than once a week                                              uint8  \n",
      " 2    attendReligiousServiceFreq_Never                                                              uint8  \n",
      " 3    attendReligiousServiceFreq_Once a week                                                        uint8  \n",
      " 4    attendReligiousServiceFreq_Once a year or less                                                uint8  \n",
      " 5    attendReligiousServiceFreq_Once or twice a month                                              uint8  \n",
      " 6    attendReligiousServiceFreq_Refused                                                            uint8  \n",
      " 7    employmentStatus_retired                                                                      uint8  \n",
      " 8    employmentStatus_unemployed                                                                   uint8  \n",
      " 9    genderSubjectAttractedTo_sexually attracted mostly to same gender, sometimes opposite gender  uint8  \n",
      " 10   genderSubjectAttractedTo_sexually attracted only to opposite gender                           uint8  \n",
      " 11   genderSubjectAttractedTo_sexually attracted only to same gender                               uint8  \n",
      " 12   genderSubjectAttractedTo_sexually attracted to men and women equally                          uint8  \n",
      " 13   houseType_A mobile home                                                                       uint8  \n",
      " 14   houseType_A one-family house attached to one or more houses                                   uint8  \n",
      " 15   houseType_A one-family house detached from any other house                                    uint8  \n",
      " 16   houseType_Boat, RV, van, etc.                                                                 uint8  \n",
      " 17   householdAdults_num                                                                           float64\n",
      " 18   householdIncome                                                                               float64\n",
      " 19   householdMinor_num                                                                            float64\n",
      " 20   householdSize                                                                                 float64\n",
      " 21   interracial_yes                                                                               uint8  \n",
      " 22   isHispanic                                                                                    float64\n",
      " 23   isLivingTogether_Refused                                                                      uint8  \n",
      " 24   isLivingTogether_Yes                                                                          uint8  \n",
      " 25   isMarried_Yes, I am Married                                                                   uint8  \n",
      " 26   isMetroArea_Non-Metro                                                                         uint8  \n",
      " 27   metAs_coworkers_yes                                                                           uint8  \n",
      " 28   metAs_customerAndClient_yes                                                                   uint8  \n",
      " 29   metAs_workNeighbors_yes                                                                       uint8  \n",
      " 30   metIn_church_yes                                                                              uint8  \n",
      " 31   metIn_college_yes                                                                             uint8  \n",
      " 32   metIn_military_yes                                                                            uint8  \n",
      " 33   metIn_privateParty_yes                                                                        uint8  \n",
      " 34   metIn_public_yes                                                                              uint8  \n",
      " 35   metIn_restaurantOrBar_yes                                                                     uint8  \n",
      " 36   metIn_school_yes                                                                              uint8  \n",
      " 37   metIn_voluntaryOrg_yes                                                                        uint8  \n",
      " 38   metOn_blindDate_yes                                                                           uint8  \n",
      " 39   metOn_businessTrip_yes                                                                        uint8  \n",
      " 40   metOn_vacation_yes                                                                            uint8  \n",
      " 41   metOnline_all_yes                                                                             uint8  \n",
      " 42   metOnline_chat_yes                                                                            uint8  \n",
      " 43   metOnline_datingSiteOrApp_yes                                                                 uint8  \n",
      " 44   metOnline_gaming_yes                                                                          uint8  \n",
      " 45   metOnline_nonDatingSite_yes                                                                   uint8  \n",
      " 46   metOnline_other_yes                                                                           uint8  \n",
      " 47   metOnline_socialNetwork_yes                                                                   uint8  \n",
      " 48   metThru_family_yes                                                                            uint8  \n",
      " 49   metThru_friend_yes                                                                            uint8  \n",
      " 50   metThru_notInternetDatingService_yes                                                          uint8  \n",
      " 51   metThru_orAs_neighbors_yes                                                                    uint8  \n",
      " 52   met_YearFraction                                                                              float64\n",
      " 53   met_to_shipStart_diff                                                                         float64\n",
      " 54   numRelativesSeePerMonth                                                                       float64\n",
      " 55   ownHouseRentOther_Owned or being bought by you or someone in your household                   uint8  \n",
      " 56   ownHouseRentOther_Rented for cash                                                             uint8  \n",
      " 57   partnerAge                                                                                    float64\n",
      " 58   partnerEduc_years                                                                             float64\n",
      " 59   partnerGender_[Partner Name] is Male                                                          uint8  \n",
      " 60   partnerGender_[Partner Name] is Other, please specify                                         uint8  \n",
      " 61   partnerMotherEduc_years                                                                       float64\n",
      " 62   partnerParty_DemPos_RepNeg                                                                    float64\n",
      " 63   partnerRace_Asian or Pacific Islander                                                         uint8  \n",
      " 64   partnerRace_Black or African American                                                         uint8  \n",
      " 65   partnerRace_Other (please specify)                                                            uint8  \n",
      " 66   partnerRace_White                                                                             uint8  \n",
      " 67   partyDifference                                                                               float64\n",
      " 68   region_Northeast                                                                              uint8  \n",
      " 69   region_South                                                                                  uint8  \n",
      " 70   region_West                                                                                   uint8  \n",
      " 71   relationshipQuality_isGood                                                                    float64\n",
      " 72   season_met_spring                                                                             uint8  \n",
      " 73   season_met_summer                                                                             uint8  \n",
      " 74   season_met_winter                                                                             uint8  \n",
      " 75   season_shipStart_spring                                                                       uint8  \n",
      " 76   season_shipStart_summer                                                                       uint8  \n",
      " 77   season_shipStart_winter                                                                       uint8  \n",
      " 78   sexFrequency_3 to 6 times a week                                                              uint8  \n",
      " 79   sexFrequency_Once a day or more                                                               uint8  \n",
      " 80   sexFrequency_Once a month or less                                                             uint8  \n",
      " 81   sexFrequency_Once or twice a week                                                             uint8  \n",
      " 82   sexFrequency_Refused                                                                          uint8  \n",
      " 83   shipStart_YearFraction                                                                        float64\n",
      " 84   straightGayLesbian_hetero couple                                                              uint8  \n",
      " 85   straightGayLesbian_lesbian couple                                                             uint8  \n",
      " 86   subjectAge                                                                                    float64\n",
      " 87   subjectAgeWhenMet                                                                             float64\n",
      " 88   subjectCountryWhenMetPartner_Refused                                                          uint8  \n",
      " 89   subjectCountryWhenMetPartner_United States                                                    uint8  \n",
      " 90   subjectEduc_years                                                                             float64\n",
      " 91   subjectGender_Male                                                                            uint8  \n",
      " 92   subjectGrewUpInUS_Refused                                                                     uint8  \n",
      " 93   subjectGrewUpInUS_United States                                                               uint8  \n",
      " 94   subjectMotherEduc_years                                                                       float64\n",
      " 95   subjectParty_DemPos_RepNeg                                                                    float64\n",
      " 96   subjectRace_Asian or Pacific Islander                                                         uint8  \n",
      " 97   subjectRace_Black or African American                                                         uint8  \n",
      " 98   subjectRace_Other (please specify)                                                            uint8  \n",
      " 99   subjectRace_White                                                                             uint8  \n",
      " 100  subjectSexualIdentity_Something else                                                          uint8  \n",
      " 101  subjectSexualIdentity_bisexual                                                                uint8  \n",
      " 102  subjectSexualIdentity_gay                                                                     uint8  \n",
      " 103  subjectSexualIdentity_heterosexual or straight                                                uint8  \n",
      " 104  subjectSexualIdentity_lesbian                                                                 uint8  \n",
      " 105  timesDivorcedOrWidowed                                                                        float64\n",
      " 106  whoEarnedMore_Refused                                                                         uint8  \n",
      " 107  whoEarnedMore_We earned about the same amount                                                 uint8  \n",
      " 108  whoEarnedMore_[Partner Name] earned more                                                      uint8  \n",
      " 109  whoEarnedMore_[Partner Name] was not working for pay                                          uint8  \n",
      "dtypes: float64(22), uint8(88)\n",
      "memory usage: 692.8 KB\n"
     ]
    }
   ],
   "source": [
    "# alphbetize column names\n",
    "\n",
    "df = df.sort_index(axis=1)\n",
    "\n",
    "df.info(verbose=True)"
   ]
  },
  {
   "cell_type": "markdown",
   "id": "1b6ed7d6",
   "metadata": {},
   "source": [
    "---\n",
    "---\n",
    "\n",
    "# Step 3: Unsupervised Learning (ALL TOP FEATURES)"
   ]
  },
  {
   "cell_type": "markdown",
   "id": "b668971f",
   "metadata": {},
   "source": [
    "### Principal Component Analysis"
   ]
  },
  {
   "cell_type": "markdown",
   "id": "fd9232a8",
   "metadata": {},
   "source": [
    "#### Capture 95% of variance "
   ]
  },
  {
   "cell_type": "code",
   "execution_count": 65,
   "id": "f8b29e95",
   "metadata": {},
   "outputs": [
    {
     "name": "stdout",
     "output_type": "stream",
     "text": [
      "--------------------Explained variance ratio--------------------\n",
      "[0.23440349 0.19782562 0.14989051 0.13982548 0.09525711 0.04242338\n",
      " 0.02606393 0.02543566 0.02311939 0.01750887]\n"
     ]
    }
   ],
   "source": [
    "from sklearn.decomposition import PCA\n",
    "\n",
    "classification_top_features = [\n",
    "    \"householdIncome\",\n",
    "    \"isLivingTogether_Yes\",\n",
    "    \"metAs_coworkers_yes\",\n",
    "    \"partnerAge\",\n",
    "    \"partnerMotherEduc_years\",\n",
    "    \"sexFrequency_3 to 6 times a week\",\n",
    "    \"sexFrequency_Once a month or less\",\n",
    "    \"sexFrequency_Once or twice a week\",\n",
    "    \"relationshipQuality_isGood\"\n",
    "]\n",
    "\n",
    "regression_top_features = [    \n",
    "    \"householdIncome\",\n",
    "    \"householdMinor_num\",\n",
    "    \"isLivingTogether_Yes\",\n",
    "    \"metAs_workNeighbors_yes\",\n",
    "    \"metIn_school_yes\",\n",
    "    \"partnerRace_Asian or Pacific Islander\",\n",
    "    \"partnerRace_White\",\n",
    "    \"sexFrequency_3 to 6 times a week\",\n",
    "    \"sexFrequency_Once a month or less\",\n",
    "    \"sexFrequency_Once or twice a week\",\n",
    "    \"whoEarnedMore_We earned about the same amount\",\n",
    "    \"relationshipQuality_isGood\"\n",
    "]\n",
    "\n",
    "all_top_features = list(set(classification_top_features +\n",
    "                           regression_top_features))\n",
    "\n",
    "df_less = df.copy()[all_top_features]\n",
    "\n",
    "# create instance of PCA with enough features to capture 95% of the variance\n",
    "pca = PCA(n_components=0.95,\n",
    "         random_state=42)\n",
    "\n",
    "# fit PCA model to the scaled data\n",
    "pca.fit(df_less)\n",
    "\n",
    "print('-'*20 + 'Explained variance ratio' + '-'*20)\n",
    "print(pca.explained_variance_ratio_)"
   ]
  },
  {
   "cell_type": "markdown",
   "id": "0e38645e",
   "metadata": {},
   "source": [
    "#### How many features to retain 95% variance?"
   ]
  },
  {
   "cell_type": "code",
   "execution_count": 66,
   "id": "51a600f3",
   "metadata": {
    "scrolled": false
   },
   "outputs": [
    {
     "data": {
      "text/plain": [
       "Text(0, 0.5, 'Principal components')"
      ]
     },
     "execution_count": 66,
     "metadata": {},
     "output_type": "execute_result"
    },
    {
     "data": {
      "text/plain": [
       "<Figure size 1600x640 with 0 Axes>"
      ]
     },
     "metadata": {},
     "output_type": "display_data"
    },
    {
     "data": {
      "image/png": "[encoded data removed]",
      "text/plain": [
       "<Figure size 432x288 with 2 Axes>"
      ]
     },
     "metadata": {
      "needs_background": "light"
     },
     "output_type": "display_data"
    }
   ],
   "source": [
    "plt.figure(figsize=(20, 8), dpi=80)\n",
    "\n",
    "plt.matshow(pca.components_, cmap='viridis')\n",
    "\n",
    "plt.colorbar()\n",
    "\n",
    "plt.xticks(range(len(df_less.columns)),\n",
    "           df_less.columns, rotation=60, ha='left')\n",
    "\n",
    "plt.xlabel(\"Feature\")\n",
    "plt.ylabel(\"Principal components\")"
   ]
  },
  {
   "cell_type": "markdown",
   "id": "7b0e62fd",
   "metadata": {},
   "source": [
    "### K-Means Clustering: Elbow Method"
   ]
  },
  {
   "cell_type": "code",
   "execution_count": 67,
   "id": "4ccab6ce",
   "metadata": {},
   "outputs": [],
   "source": [
    "df_less_pca = pca.transform(df_less)"
   ]
  },
  {
   "cell_type": "code",
   "execution_count": 68,
   "id": "6718f49c",
   "metadata": {},
   "outputs": [
    {
     "data": {
      "image/png": "[encoded data removed]",
      "text/plain": [
       "<Figure size 1280x640 with 1 Axes>"
      ]
     },
     "metadata": {
      "needs_background": "light"
     },
     "output_type": "display_data"
    }
   ],
   "source": [
    "from sklearn.cluster import KMeans\n",
    "\n",
    "inertiaVals = {}\n",
    "\n",
    "for k in range(1, 8):\n",
    "    kmeansTmp = KMeans(n_clusters=k, max_iter=1000).fit(df_less_pca)\n",
    "    inertiaVals[k] = kmeansTmp.inertia_ \n",
    "    \n",
    "plt.figure(figsize=(16, 8), dpi=80)\n",
    "\n",
    "plt.plot(list(inertiaVals.keys()), list(inertiaVals.values()))\n",
    "\n",
    "plt.xlabel(\"Number of cluster\")\n",
    "plt.ylabel(\"Inertia\")\n",
    "\n",
    "plt.show()"
   ]
  },
  {
   "cell_type": "markdown",
   "id": "a885917d",
   "metadata": {},
   "source": [
    "Without PCA\n",
    "\n",
    "It seems the optimal number of clusters might be K = 2.\n",
    "\n",
    "The curve goes from steep to shallow at K = 2, and afterwards, it smooths out.\n",
    "\n",
    "---\n",
    "\n",
    "With PCA\n",
    "\n",
    "K = 4"
   ]
  },
  {
   "cell_type": "markdown",
   "id": "3eaa3fbf",
   "metadata": {},
   "source": [
    "### K-Means Clustering \n",
    "\n",
    "When I created a correlation matrix in Project 1, Glucose (r = 0.48) and BMI (r = 0.28) had the highest correlations with the diabetes outcome.\n",
    "\n",
    "For visualizing K-Means without PCA, I will use Glucose and BMI."
   ]
  },
  {
   "cell_type": "code",
   "execution_count": 79,
   "id": "b0c885e3",
   "metadata": {},
   "outputs": [
    {
     "data": {
      "text/plain": [
       "Text(0, 0.5, 'Component 1')"
      ]
     },
     "execution_count": 79,
     "metadata": {},
     "output_type": "execute_result"
    },
    {
     "data": {
      "image/png": "[encoded data removed]",
      "text/plain": [
       "<Figure size 432x288 with 1 Axes>"
      ]
     },
     "metadata": {
      "needs_background": "light"
     },
     "output_type": "display_data"
    }
   ],
   "source": [
    "from sklearn.cluster import KMeans\n",
    "\n",
    "# build the clustering model\n",
    "kmeans = KMeans(n_clusters=3,\n",
    "               random_state=42)\n",
    "\n",
    "kmeans.fit(df_less_pca)\n",
    "\n",
    "assignments=kmeans.labels_\n",
    "\n",
    "\n",
    "# Select X and Y Axis\n",
    "\n",
    "X = \"Component 0\"\n",
    "y = \"Component 1\"\n",
    "\n",
    "mglearn.discrete_scatter(\n",
    "    df_less_pca[:,0],\n",
    "    df_less_pca[:,1], \n",
    "    assignments\n",
    ")\n",
    "\n",
    "\n",
    "\n",
    "plt.legend([\"Cluster 0\", \"Cluster 1\", \"Cluster 2\", \"Cluster 3\"], loc=\"best\")\n",
    "\n",
    "plt.xlabel(X)\n",
    "plt.ylabel(y)"
   ]
  },
  {
   "cell_type": "markdown",
   "id": "eb8bcfeb",
   "metadata": {},
   "source": [
    "PC0 - children up, Parter age down, (rQual slight down, partnerMother Educ slight up)\n",
    "\n",
    "(less children, older partners (slight happier, slightly more educated) --- more children, younger partners, (slightly sadder, slightly less educ))\n",
    "\n",
    "---\n",
    "\n",
    "PC1 - HH income down, partner mother educ down (rQual slight down, partner age slight up)\n",
    "\n",
    "(Wealthier, more educated (slightly happier, slightly younger) -- poorer, less educated (slightly sadder, slightly older))\n",
    "\n",
    "---\n",
    "\n",
    "- Blue circles: Less/no children, older partners, slightly happier, slightly more educated\n",
    "\n",
    "(Older educated and childless - Happy)\n",
    "\n",
    "- Orange triangles: More children, neutral age partners, sadder, less educated, poorer\n",
    "\n",
    "(Neural aged with more children, less education, less income - Sad)\n",
    "\n",
    "- Green triangles: More children, young-young partners, netural rQual, some education, wealthier\n",
    "\n",
    "(Younger couples with more children, some education, more income - Okay)"
   ]
  }
 ],
 "metadata": {
  "kernelspec": {
   "display_name": "Python 3 (ipykernel)",
   "language": "python",
   "name": "python3"
  },
  "language_info": {
   "codemirror_mode": {
    "name": "ipython",
    "version": 3
   },
   "file_extension": ".py",
   "mimetype": "text/x-python",
   "name": "python",
   "nbconvert_exporter": "python",
   "pygments_lexer": "ipython3",
   "version": "3.9.7"
  }
 },
 "nbformat": 4,
 "nbformat_minor": 5
}
