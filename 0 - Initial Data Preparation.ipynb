{
 "cells": [
  {
   "cell_type": "markdown",
   "id": "8437e36e",
   "metadata": {},
   "source": [
    "# INITIAL DATA PREPERATION\n",
    "\n",
    "By: Oscar Ko\n",
    "\n",
    "This notebook is created for initial data preperation on this dataset from Stanford.\n",
    "\n",
    "https://data.stanford.edu/hcmst2017\n",
    "\n",
    "**NOTE:** I am conducting this on the dataset using the codebook to select the relevant variables and rename them to be easier to work with. For this initial preperation, I am only looking at the column names, the data type, and the unique classes. I am avoiding \"exploring\" the data to prevent \"data snooping\" and gaining any possible intutions and biases of the data.\n",
    "\n",
    "---\n",
    "---"
   ]
  },
  {
   "cell_type": "markdown",
   "id": "6f13047d",
   "metadata": {},
   "source": [
    "# Imports and Data"
   ]
  },
  {
   "cell_type": "code",
   "execution_count": 41,
   "id": "83ab8d6c",
   "metadata": {},
   "outputs": [
    {
     "data": {
      "text/plain": [
       "(3510, 285)"
      ]
     },
     "execution_count": 41,
     "metadata": {},
     "output_type": "execute_result"
    }
   ],
   "source": [
    "import numpy as np\n",
    "import pandas as pd\n",
    "\n",
    "import warnings\n",
    "warnings.filterwarnings('ignore')\n",
    "\n",
    "\n",
    "imported_data = pd.read_stata(\"data/HCMST 2017 fresh sample for public sharing draft v1.1.dta\")\n",
    "\n",
    "imported_data.shape"
   ]
  },
  {
   "cell_type": "code",
   "execution_count": 42,
   "id": "0f067c60",
   "metadata": {},
   "outputs": [
    {
     "data": {
      "text/plain": [
       "['CaseID',\n",
       " 'CASEID_NEW',\n",
       " 'qflag',\n",
       " 'weight1',\n",
       " 'weight1_freqwt',\n",
       " 'weight2',\n",
       " 'weight1a',\n",
       " 'weight1a_freqwt',\n",
       " 'weight_combo',\n",
       " 'weight_combo_freqwt',\n",
       " 'duration',\n",
       " 'speed_flag',\n",
       " 'consent',\n",
       " 'xlgb',\n",
       " 'S1',\n",
       " 'S2',\n",
       " 'S3',\n",
       " 'DOV_Branch',\n",
       " 'Q3_Refused',\n",
       " 'Q4',\n",
       " 'Q5',\n",
       " 'Q6A',\n",
       " 'Q6B',\n",
       " 'Q9',\n",
       " 'Q10',\n",
       " 'Q11',\n",
       " 'Q12',\n",
       " 'Q14',\n",
       " 'Q15A7',\n",
       " 'Q16',\n",
       " 'Q16_Refused',\n",
       " 'Q17A',\n",
       " 'Q17B',\n",
       " 'Q17C',\n",
       " 'Q17D',\n",
       " 'Q19',\n",
       " 'Q20',\n",
       " 'Q21A_Year',\n",
       " 'Q21A_Month',\n",
       " 'Q21B_Year',\n",
       " 'Q21B_Month',\n",
       " 'Q21C_Year',\n",
       " 'Q21C_Month',\n",
       " 'Q21D_Year',\n",
       " 'Q21D_Month',\n",
       " 'w6_identity',\n",
       " 'w6_outness',\n",
       " 'w6_outness_timing',\n",
       " 'Q23',\n",
       " 'Q24_Refused',\n",
       " 'Q25',\n",
       " 'Q26',\n",
       " 'Q27',\n",
       " 'Q28',\n",
       " 'w6_friend_connect_1',\n",
       " 'w6_friend_connect_2',\n",
       " 'w6_friend_connect_3',\n",
       " 'w6_friend_connect_4',\n",
       " 'w6_friend_connect_Refused',\n",
       " 'Q32',\n",
       " 'Q34',\n",
       " 'Q35_Refused',\n",
       " 'w6_sex_frequency',\n",
       " 'w6_otherdate',\n",
       " 'w6_how_many',\n",
       " 'w6_how_meet_Refused',\n",
       " 'w6_otherdate_app',\n",
       " 'w6_how_many_app',\n",
       " 'Past_Partner_Q1',\n",
       " 'w6_relationship_end_nonmar',\n",
       " 'w6_breakup_nonmar',\n",
       " 'w6_relationship_end_mar',\n",
       " 'w6_who_breakup',\n",
       " 'Q5_2',\n",
       " 'Q6A_2',\n",
       " 'Q9B_2',\n",
       " 'Q10_2',\n",
       " 'Q11_2',\n",
       " 'Q12_2',\n",
       " 'Q14_2',\n",
       " 'Q15A7_2_1',\n",
       " 'Q16_2',\n",
       " 'Q16_2_Codes',\n",
       " 'Q17B_2',\n",
       " 'Q17C_2',\n",
       " 'Q17D_2',\n",
       " 'Q20_2',\n",
       " 'Q21A_2_Year',\n",
       " 'Q21A_2_Month',\n",
       " 'Q21B_2_Year',\n",
       " 'Q21B_2_Month',\n",
       " 'Q21C_2_Year',\n",
       " 'Q21C_2_Month',\n",
       " 'Q21D_2_Year',\n",
       " 'Q21D_2_Month',\n",
       " 'Q21E_2_Year',\n",
       " 'Q21E_2_Month',\n",
       " 'Q21F_2_start_range',\n",
       " 'Q21F_2_Year',\n",
       " 'Q21F_2_Month',\n",
       " 'w6_identity_2',\n",
       " 'w6_outness_2',\n",
       " 'w6_outness_timing_2',\n",
       " 'Q23_2',\n",
       " 'Q25_2',\n",
       " 'Q26_2',\n",
       " 'Q27_2',\n",
       " 'Q28_2',\n",
       " 'w6_friend_connect_2_1',\n",
       " 'w6_friend_connect_2_2',\n",
       " 'w6_friend_connect_2_3',\n",
       " 'w6_friend_connect_2_4',\n",
       " 'w6_friend_connect_2_Refused',\n",
       " 'Q32_2',\n",
       " 'w6_otherdate_2',\n",
       " 'w6_how_many_2',\n",
       " 'w6_otherdate_app_2',\n",
       " 'w6_how_many_app_2',\n",
       " 'partyid7',\n",
       " 'PERSNET_hom',\n",
       " 'ppc10017',\n",
       " 'ppc21310',\n",
       " 'ppp20071',\n",
       " 'ppp20072',\n",
       " 'ppage',\n",
       " 'ppagecat',\n",
       " 'ppagect4',\n",
       " 'ppeduc',\n",
       " 'ppeducat',\n",
       " 'ppethm',\n",
       " 'ppgender',\n",
       " 'pphhhead',\n",
       " 'pphhsize',\n",
       " 'pphouse',\n",
       " 'ppincimp',\n",
       " 'ppmarit',\n",
       " 'ppmsacat',\n",
       " 'PPREG4',\n",
       " 'ppreg9',\n",
       " 'pprent',\n",
       " 'PPT01',\n",
       " 'PPT25',\n",
       " 'PPT612',\n",
       " 'PPT1317',\n",
       " 'PPT18OV',\n",
       " 'ppwork',\n",
       " 'Race_1',\n",
       " 'Race_2',\n",
       " 'Race_3',\n",
       " 'Race_4',\n",
       " 'Race_5',\n",
       " 'Race_6',\n",
       " 'race1',\n",
       " 'race2',\n",
       " 'race3',\n",
       " 'race4',\n",
       " 'race5',\n",
       " 'race6',\n",
       " 'race7',\n",
       " 'race8',\n",
       " 'race9',\n",
       " 'race10',\n",
       " 'race11',\n",
       " 'race12',\n",
       " 'race13',\n",
       " 'race14',\n",
       " 'race15',\n",
       " 'w6_took_the_survey',\n",
       " 'w6_prior_identity_lgb',\n",
       " 'w6_same_sex_couple',\n",
       " 'w6_same_sex_couple_gender',\n",
       " 'w6_q4',\n",
       " 'w6_q5',\n",
       " 'w6_q6a',\n",
       " 'w6_q6b',\n",
       " 'w6_q9',\n",
       " 'w6_q10',\n",
       " 'w6_q11',\n",
       " 'w6_q12',\n",
       " 'w6_q14',\n",
       " 'w6_q15a1_truncated',\n",
       " 'w6_q15a4_truncated',\n",
       " 'w6_q15a7',\n",
       " 'w6_q16',\n",
       " 'w6_q17',\n",
       " 'w6_attraction',\n",
       " 'w6_q19',\n",
       " 'w6_q20',\n",
       " 'w6_q21a_year',\n",
       " 'w6_q21a_month',\n",
       " 'w6_q21a_month_flag',\n",
       " 'w6_q21b_year',\n",
       " 'w6_q21b_month',\n",
       " 'w6_q21b_month_flag',\n",
       " 'w6_q21c_year',\n",
       " 'w6_q21c_month',\n",
       " 'w6_q21c_month_flag',\n",
       " 'w6_q21d_year',\n",
       " 'w6_q21d_month',\n",
       " 'w6_q21e_year',\n",
       " 'w6_q21e_month',\n",
       " 'w6_q21f_year',\n",
       " 'w6_q21f_month',\n",
       " 'w6_identity_all',\n",
       " 'w6_outness_all',\n",
       " 'w6_outness_timing_all',\n",
       " 'w6_q23',\n",
       " 'w6_q24_length',\n",
       " 'w6_q25',\n",
       " 'w6_q26',\n",
       " 'w6_q27',\n",
       " 'w6_q28',\n",
       " 'w6_friend_connect_1_all',\n",
       " 'w6_friend_connect_2_all',\n",
       " 'w6_friend_connect_3_all',\n",
       " 'w6_friend_connect_4_all',\n",
       " 'w6_q32',\n",
       " 'w6_q34',\n",
       " 'w6_otherdate_all',\n",
       " 'w6_how_many_all',\n",
       " 'w6_otherdate_app_all',\n",
       " 'w6_how_many_app_all',\n",
       " 'w6_number_people_met',\n",
       " 'w6_otherdate_dichotomous',\n",
       " 'w6_married',\n",
       " 'relate_duration_at_w6_years',\n",
       " 'w6_number_people_met_app',\n",
       " 'weight_combo_v2',\n",
       " 'partnership_status',\n",
       " 'female',\n",
       " 'year_fraction_met',\n",
       " 'year_fraction_relstart',\n",
       " 'age_when_met',\n",
       " 'time_from_met_to_rel',\n",
       " 'year_fraction_first_cohab',\n",
       " 'time_from_rel_to_cohab',\n",
       " 'hcm2017q24_R_cowork',\n",
       " 'hcm2017q24_R_friend',\n",
       " 'hcm2017q24_R_family',\n",
       " 'hcm2017q24_R_sig_other',\n",
       " 'hcm2017q24_R_neighbor',\n",
       " 'hcm2017q24_P_cowork',\n",
       " 'hcm2017q24_P_friend',\n",
       " 'hcm2017q24_P_family',\n",
       " 'hcm2017q24_P_sig_other',\n",
       " 'hcm2017q24_P_neighbor',\n",
       " 'hcm2017q24_btwn_I_cowork',\n",
       " 'hcm2017q24_btwn_I_friend',\n",
       " 'hcm2017q24_btwn_I_family',\n",
       " 'hcm2017q24_btwn_I_sig_other',\n",
       " 'hcm2017q24_btwn_I_neighbor',\n",
       " 'hcm2017q24_school',\n",
       " 'hcm2017q24_college',\n",
       " 'hcm2017q24_mil',\n",
       " 'hcm2017q24_church',\n",
       " 'hcm2017q24_vol_org',\n",
       " 'hcm2017q24_customer',\n",
       " 'hcm2017q24_bar_restaurant',\n",
       " 'hcm2017q24_party',\n",
       " 'hcm2017q24_internet_other',\n",
       " 'hcm2017q24_internet_dating',\n",
       " 'hcm2017q24_internet_soc_network',\n",
       " 'hcm2017q24_internet_game',\n",
       " 'hcm2017q24_internet_chat',\n",
       " 'hcm2017q24_internet_org',\n",
       " 'hcm2017q24_public',\n",
       " 'hcm2017q24_blind_date',\n",
       " 'hcm2017q24_vacation',\n",
       " 'hcm2017q24_single_serve_nonint',\n",
       " 'hcm2017q24_business_trip',\n",
       " 'hcm2017q24_work_neighbors',\n",
       " 'hcm2017q24_met_online',\n",
       " 'hcm2017_q24_length',\n",
       " 'hcm2017q24_summary_all_codes',\n",
       " 'w6_relationship_quality',\n",
       " 'hcm2017q24_met_through_family',\n",
       " 'hcm2017q24_met_through_friend',\n",
       " 'hcm2017q24_met_through_as_nghbrs',\n",
       " 'hcm2017q24_met_as_through_cowork',\n",
       " 'w6_subject_race',\n",
       " 'interracial_5cat',\n",
       " 'partner_mother_yrsed',\n",
       " 'subject_mother_yrsed',\n",
       " 'partner_yrsed',\n",
       " 'subject_yrsed']"
      ]
     },
     "execution_count": 42,
     "metadata": {},
     "output_type": "execute_result"
    }
   ],
   "source": [
    "list(imported_data.columns)"
   ]
  },
  {
   "cell_type": "markdown",
   "id": "1e70f46c",
   "metadata": {},
   "source": [
    "---\n",
    "\n",
    "**NOTES:** \n",
    "\n",
    "- There were many features in this dataset. Before even performing a train-test split, I wanted to reduce the number of features and only keep the relevant ones. There were also many duplicate columns that were unnecessary. \n",
    "\n",
    "\n",
    "- I also renamed all the selected features in a seperate duplicate dataset for more inuitive names.\n",
    "\n",
    "---"
   ]
  },
  {
   "cell_type": "markdown",
   "id": "ee9c29de",
   "metadata": {},
   "source": [
    "# Select Specific Features to Use\n",
    "\n",
    "- Some features are redundant.\n",
    "\n",
    "\n",
    "    - For example, some are just recodings of each other.\n",
    "    \n",
    "    \n",
    "- Some features contain more of the same information.\n",
    "\n",
    "\n",
    "    - Q4 and w6_q4 contain subject's partner's gender, but only w6_q4 contains gender for couples that are still together AND couples that are broken up.\n",
    "    \n",
    "    - w6_q4 will be selected to use. Q4 will not be used.\n",
    "    \n",
    "    \n",
    "- Some features I'm uncertain about whether or not they will be useful, so I will leave them commented out."
   ]
  },
  {
   "cell_type": "code",
   "execution_count": 43,
   "id": "81935bbb",
   "metadata": {
    "scrolled": true
   },
   "outputs": [
    {
     "data": {
      "text/plain": [
       "['CASEID_NEW',\n",
       " 'w6_sex_frequency',\n",
       " 'ppp20072',\n",
       " 'pphhsize',\n",
       " 'pphouse',\n",
       " 'ppincimp',\n",
       " 'ppmsacat',\n",
       " 'pprent',\n",
       " 'ppwork',\n",
       " 'w6_q15a1_truncated',\n",
       " 'w6_q15a4_truncated',\n",
       " 'w6_q16',\n",
       " 'w6_q17',\n",
       " 'w6_q23',\n",
       " 'interracial_5cat',\n",
       " 'age_when_met',\n",
       " 'w6_q4',\n",
       " 'partyid7',\n",
       " 'w6_q12',\n",
       " 'ppgender',\n",
       " 'S1',\n",
       " 'ppage',\n",
       " 'w6_q9',\n",
       " 'subject_yrsed',\n",
       " 'partner_yrsed',\n",
       " 'subject_mother_yrsed',\n",
       " 'partner_mother_yrsed',\n",
       " 'w6_subject_race',\n",
       " 'w6_q6b',\n",
       " 'PPREG4',\n",
       " 'w6_same_sex_couple_gender',\n",
       " 'w6_attraction',\n",
       " 'w6_q19',\n",
       " 'w6_q34',\n",
       " 'w6_identity_all',\n",
       " 'PPT01',\n",
       " 'PPT25',\n",
       " 'PPT612',\n",
       " 'PPT1317',\n",
       " 'PPT18OV',\n",
       " 'w6_q21a_month',\n",
       " 'w6_q21b_month',\n",
       " 'year_fraction_met',\n",
       " 'year_fraction_relstart',\n",
       " 'time_from_met_to_rel',\n",
       " 'year_fraction_first_cohab',\n",
       " 'time_from_rel_to_cohab',\n",
       " 'hcm2017q24_met_through_family',\n",
       " 'hcm2017q24_met_through_friend',\n",
       " 'hcm2017q24_met_through_as_nghbrs',\n",
       " 'hcm2017q24_met_as_through_cowork',\n",
       " 'hcm2017q24_school',\n",
       " 'hcm2017q24_college',\n",
       " 'hcm2017q24_mil',\n",
       " 'hcm2017q24_church',\n",
       " 'hcm2017q24_vol_org',\n",
       " 'hcm2017q24_customer',\n",
       " 'hcm2017q24_bar_restaurant',\n",
       " 'hcm2017q24_party',\n",
       " 'hcm2017q24_public',\n",
       " 'hcm2017q24_blind_date',\n",
       " 'hcm2017q24_vacation',\n",
       " 'hcm2017q24_single_serve_nonint',\n",
       " 'hcm2017q24_business_trip',\n",
       " 'hcm2017q24_work_neighbors',\n",
       " 'hcm2017q24_internet_other',\n",
       " 'hcm2017q24_internet_dating',\n",
       " 'hcm2017q24_internet_soc_network',\n",
       " 'hcm2017q24_internet_game',\n",
       " 'hcm2017q24_internet_chat',\n",
       " 'hcm2017q24_internet_org',\n",
       " 'hcm2017q24_met_online',\n",
       " 'qflag',\n",
       " 'speed_flag',\n",
       " 'S3',\n",
       " 'w6_took_the_survey',\n",
       " 'partnership_status',\n",
       " 'ppethm']"
      ]
     },
     "execution_count": 43,
     "metadata": {},
     "output_type": "execute_result"
    }
   ],
   "source": [
    "features = [\n",
    "    \n",
    "    \"CASEID_NEW\", # ID\n",
    "    \"w6_sex_frequency\", # sexFrequency\n",
    "    \"ppp20072\", # attendReligiousServiceFreq\n",
    "    \"pphhsize\", # household size\n",
    "    \"pphouse\", # type of house\n",
    "    \"ppincimp\", # household income\n",
    "    \"ppmsacat\", # metro area\n",
    "    \"pprent\", # own, rent, other\n",
    "    \"ppwork\", # employment status\n",
    "    \"w6_q15a1_truncated\", # subject grew up in US?\n",
    "    \"w6_q15a4_truncated\", # subject's living country when met partner\n",
    "    \"w6_q16\", # how many relatives subject sees per month?\n",
    "    \"w6_q17\", # how many times has subject been married?\n",
    "    \"w6_q23\", # Who earned more (in 2016 or when last together)\n",
    "    \"interracial_5cat\", # based on w6_subject_race and w6_q6b\n",
    "    \"age_when_met\", # age when met in years,=ppage-(2017- w6_q21a_year)\n",
    "    \"w6_q4\", # partner gender\n",
    "    \"partyid7\", # subject's political party\n",
    "    \"w6_q12\", # partner's political party\n",
    "    \"ppgender\", # subject gender\n",
    "    \"S1\", # isMarried\n",
    "    \"ppage\", # subject age\n",
    "    \"w6_q9\", # partner's age in 2017\n",
    "    \"subject_yrsed\", # RECODE of ppeduc (Education (Highest Degree Received))\n",
    "    \"partner_yrsed\", # RECODE of w6_q10 (partner's educational attainment)\n",
    "    \"subject_mother_yrsed\", # RECODE of w6_q14 (Subject's mother's educational attainment)\n",
    "    \"partner_mother_yrsed\", # RECODE of w6_q11 (partner's mother's Education)\n",
    "    \"w6_subject_race\", # based on single races Race_x\n",
    "    \"w6_q6b\", # partner's race\n",
    "    \"PPREG4\", # region\n",
    "    \"w6_same_sex_couple_gender\", # same sex couple specific (0=straight, 1=gay, 2=lesbian)\n",
    "    \"w6_attraction\", # what gender(s) subject attracted to?\n",
    "    \"w6_q19\", # couple living together?\n",
    "    \"w6_q34\", # how would you describe the quality of your relationship with partner?\n",
    "    \"w6_identity_all\", # subject sexual identity\n",
    "    \"PPT01\", # household member age (number of babies in household ages 0-1)\n",
    "    \"PPT25\", # household member age (number of toddlers in household ages 2-5)\n",
    "    \"PPT612\", # household member age (number of children in household ages 6-12)\n",
    "    \"PPT1317\", # household member age (number of teens in household ages 13-17)\n",
    "    \"PPT18OV\", # household member age (number of adults in household ages 18+)\n",
    "    \n",
    "    # Year/Month of Relationship Stages  ---------------------------- \n",
    "    \n",
    "#     \"w6_q21a_year\", # year subject first met partner\n",
    "    \"w6_q21a_month\", # month subject first met partner\n",
    "#     \"w6_q21b_year\", # year subject began romantic relationship w partner\n",
    "    \"w6_q21b_month\", # month subject began romantic relationship w partner\n",
    "#     \"w6_q21c_year\", # year subject first lived with partner\n",
    "#     \"w6_q21c_month\", # month subject first lived with partner\n",
    "#     \"w6_q21d_year\", # year subject married partner\n",
    "#     \"w6_q21d_month\", # month subject married partner\n",
    "#     \"w6_q21e_year\", # year of breakup\n",
    "#     \"w6_q21e_month\", # month of breakup\n",
    "#     \"w6_q21f_year\", # year partner died\n",
    "#     \"w6_q21f_month\", # month partner died\n",
    "    \n",
    "    # (Fractions) Year/Month of Relationship Stages ---------------\n",
    "    \n",
    "    \"year_fraction_met\", # w6_q21a_year+((w6_q21a_month-0.5)/12)\n",
    "    \"year_fraction_relstart\", # w6_q21b_year+((w6_q21b_month-0.5)/12)\n",
    "    \"time_from_met_to_rel\", # year_fraction_relstart-year_fraction_met\n",
    "    \"year_fraction_first_cohab\", # w6_q21c_year+((w6_q21c_month-0.5)/12)\n",
    "    \"time_from_rel_to_cohab\", # year_fraction_first_cohab-year_fraction_relstart, neg reset to zero\n",
    "    \n",
    "    \n",
    "    # Met in person -----------------------------------------------\n",
    "    \n",
    "#     \"w6_q25\", # did subject and partner attend same H.S.\n",
    "#     \"w6_q26\", # did subject and partner attend same college\n",
    "#     \"w6_q27\", # did subject and partner grow up in same city or town\n",
    "#     \"w6_q28\", # did subject's parents know partner's parents before subject knew partner?\n",
    "#     \"w6_friend_connect_1_all\", # subject knew partner's friends before meeting partner\n",
    "#     \"w6_friend_connect_2_all\", # partner knew subjects friends before meeting subject\n",
    "#     \"w6_friend_connect_3_all\", # subject's friends knew partner's friends before subject and partner met\n",
    "#     \"w6_friend_connect_4_all\", # no prior connection between subject's friends and partner's friends\n",
    "    \n",
    "#     \"hcm2017q24_R_cowork\", # Respondent's coworker: indermediary or partner\n",
    "#     \"hcm2017q24_R_friend\", # Respondent's friend: intermediary\n",
    "#     \"hcm2017q24_R_family\", # Respondent's family: intermediary\n",
    "#     \"hcm2017q24_R_sig_other\", # Respondent's (current or past) Significant Other: Intermediary\n",
    "#     \"hcm2017q24_R_neighbor\", # Respondent's residential neighbor: intermediary or Partner\n",
    "#     \"hcm2017q24_P_cowork\", # Partner's coworker: Intermediary or Respondent\n",
    "#     \"hcm2017q24_P_friend\", # Partner's Friend: Intermediary\n",
    "#     \"hcm2017q24_P_family\", # Partner's Family: Intermediary\n",
    "#     \"hcm2017q24_P_sig_other\", # Partner's (current or past) Significant Other: Intermediary\n",
    "#     \"hcm2017q24_P_neighbor\", # Partner's residential neighbor: Intermediary or Respondent\n",
    "    \n",
    "    \"hcm2017q24_met_through_family\", # 1 if R_family or P_family =1\n",
    "    \"hcm2017q24_met_through_friend\", # 1 if R_friend or P_friend=1\n",
    "    \"hcm2017q24_met_through_as_nghbrs\", # 1 if R_neighbor or P_neighbor=1\n",
    "    \"hcm2017q24_met_as_through_cowork\", # 1 if R_cowork or P_cowork=1\n",
    "\n",
    "    \"hcm2017q24_school\", # met in primary or secondary school\n",
    "    \"hcm2017q24_college\", # met in college\n",
    "    \"hcm2017q24_mil\", # met during military service\n",
    "    \"hcm2017q24_church\", # met in or through church or religious organization\n",
    "    \"hcm2017q24_vol_org\", # met through voluntary organization (non-church)\n",
    "    \"hcm2017q24_customer\", # customer-client relationship\n",
    "    \"hcm2017q24_bar_restaurant\", # restaurant, or othe public social gathering place\n",
    "    \"hcm2017q24_party\", # private party\n",
    "    \n",
    "    \"hcm2017q24_public\", # met in public place\n",
    "    \"hcm2017q24_blind_date\", # met on blind date\n",
    "    \"hcm2017q24_vacation\", # met while on vacation\n",
    "    \"hcm2017q24_single_serve_nonint\", # non internet single service\n",
    "    \"hcm2017q24_business_trip\", # met while on business trip\n",
    "    \"hcm2017q24_work_neighbors\", # met as work neighbors\n",
    "    \n",
    "    # Met online / dating app -----------------------------------------------\n",
    "    \n",
    "    \"hcm2017q24_internet_other\", # Internet, not otherwise classified\n",
    "    \"hcm2017q24_internet_dating\", # met through Internet dating or phone app\n",
    "    \"hcm2017q24_internet_soc_network\", # met through internet social networking\n",
    "    \n",
    "    \"hcm2017q24_internet_game\", # met through online gaming\n",
    "    \"hcm2017q24_internet_chat\", # met through Internet chat\n",
    "    \"hcm2017q24_internet_org\", # met through Internet site not mainly dedicated to dating\n",
    "\n",
    "    \"hcm2017q24_met_online\", # met online, all kinds\n",
    "\n",
    "\n",
    "    # to be filtered ---------------------\n",
    "    \n",
    "    \"qflag\", # DOV: Qualification Flag - Remove 2\n",
    "    \"speed_flag\", # Respondents who completed survey in under 2 min - Remove under 2\n",
    "    \"S3\", # Ever had a boyfriend or a girlfriend - Remove \"No\"\n",
    "    \"w6_took_the_survey\", # Whether subject took the survey or was excluded\n",
    "    \"partnership_status\", # Filter out 4 (never had) married, parner, ex\n",
    "    \n",
    "  \n",
    "    \n",
    "    # NOTE: The categorical education features below are redundant as there are numeric education columns\n",
    "#     # to be recoded ----------------------\n",
    "    \n",
    "#     \"ppeduc\", # subject education\n",
    "#     \"w6_q10\", # partner's education \n",
    "#     \"w6_q11\", # partner's mother's education\n",
    "#     \"w6_q14\", # subjects's mother's education\n",
    "    \n",
    "    \"ppethm\", # subject is Hispanic -- convert to binary\n",
    "\n",
    "]\n",
    "\n",
    "df = imported_data[features].copy()\n",
    "\n",
    "pd.set_option('display.max_columns', None)\n",
    "pd.set_option('display.max_rows', None)\n",
    "\n",
    "list(df.columns)"
   ]
  },
  {
   "cell_type": "markdown",
   "id": "b6c2fc20",
   "metadata": {},
   "source": [
    "# Filter Out Unqualified Subjects\n",
    "\n",
    "Removing respondents who:\n",
    "- weren't qualified for the survey\n",
    "- did the survey questionably quickly\n",
    "- have never had a partner\n",
    "- were excluded from survey"
   ]
  },
  {
   "cell_type": "code",
   "execution_count": 44,
   "id": "c479c02c",
   "metadata": {},
   "outputs": [
    {
     "name": "stdout",
     "output_type": "stream",
     "text": [
      "Original dataset had 3510 rows.\n",
      "Filtered dataset has 3391 rows.\n"
     ]
    }
   ],
   "source": [
    "isQualified = df[\"qflag\"] == \"Qualified\"\n",
    "overTwoMin = df[\"speed_flag\"] == \"Completed survey in over 2 minutes\"\n",
    "hasOrHadPartner = df[\"S3\"] != \"No\"\n",
    "tookTheSurvey = df[\"w6_took_the_survey\"] == \"took the survey\"\n",
    "\n",
    "print(\"Original dataset had\", len(df), \"rows.\")\n",
    "\n",
    "df_filtered = df[isQualified & overTwoMin & hasOrHadPartner & tookTheSurvey].copy()\n",
    "\n",
    "print(\"Filtered dataset has\", len(df_filtered), \"rows.\")"
   ]
  },
  {
   "cell_type": "markdown",
   "id": "de583b4f",
   "metadata": {},
   "source": [
    "# Rename the Columns\n",
    "\n",
    "- Creating a copy of the df_filtered to rename columns."
   ]
  },
  {
   "cell_type": "code",
   "execution_count": 45,
   "id": "d03b93b8",
   "metadata": {
    "scrolled": true
   },
   "outputs": [
    {
     "data": {
      "text/plain": [
       "['ID',\n",
       " 'sexFrequency',\n",
       " 'attendReligiousServiceFreq',\n",
       " 'householdSize',\n",
       " 'houseType',\n",
       " 'householdIncome',\n",
       " 'isMetroArea',\n",
       " 'ownHouseRentOther',\n",
       " 'employmentStatus',\n",
       " 'subjectGrewUpInUS',\n",
       " 'subjectCountryWhenMetPartner',\n",
       " 'numRelativesSeePerMonth',\n",
       " 'numOfTimesMarried',\n",
       " 'whoEarnedMore',\n",
       " 'interracial',\n",
       " 'subjectAgeWhenMet',\n",
       " 'partnerGender',\n",
       " 'subjectPoliticalParty',\n",
       " 'partnerPoliticalParty',\n",
       " 'subjectGender',\n",
       " 'isMarried',\n",
       " 'subjectAge',\n",
       " 'partnerAge',\n",
       " 'subjectEduc_years',\n",
       " 'partnerEduc_years',\n",
       " 'subjectMotherEduc_years',\n",
       " 'partnerMotherEduc_years',\n",
       " 'subjectRace',\n",
       " 'partnerRace',\n",
       " 'region',\n",
       " 'straightGayLesbian',\n",
       " 'genderSubjectAttractedTo',\n",
       " 'isLivingTogether',\n",
       " 'relationshipQuality',\n",
       " 'subjectSexualIdentity',\n",
       " 'numOfHouseMembersAges0to1',\n",
       " 'numOfHouseMembersAges2to5',\n",
       " 'numOfHouseMembersAges6to12',\n",
       " 'numOfHouseMembersAges13to17',\n",
       " 'numOfHouseMembersAges18toOver',\n",
       " 'w6_q21a_month',\n",
       " 'w6_q21b_month',\n",
       " 'met_YearFraction',\n",
       " 'shipStart_YearFraction',\n",
       " 'met_to_shipStart_diff',\n",
       " 'moveIn_YearFraction',\n",
       " 'shipStart_to_moveIn_YearFraction',\n",
       " 'metThru_family',\n",
       " 'metThru_friend',\n",
       " 'metThru_orAs_neighbors',\n",
       " 'metThru_orAs_coworkers',\n",
       " 'metIn_school',\n",
       " 'metIn_college',\n",
       " 'metIn_military',\n",
       " 'metIn_church',\n",
       " 'metIn_voluntaryOrg',\n",
       " 'metAs_customerAndClient',\n",
       " 'metIn_restaurantOrBar',\n",
       " 'metIn_privateParty',\n",
       " 'metIn_public',\n",
       " 'metOn_blindDate',\n",
       " 'metOn_vacation',\n",
       " 'metThru_notInternetDatingService',\n",
       " 'metOn_businessTrip',\n",
       " 'metAs_coworkers',\n",
       " 'metOnline_other',\n",
       " 'metOnline_datingSiteOrApp',\n",
       " 'metOnline_socialNetwork',\n",
       " 'metOnline_gaming',\n",
       " 'metOnline_chat',\n",
       " 'metOnline_nonDatingSite',\n",
       " 'metOnline_all',\n",
       " 'ppethm']"
      ]
     },
     "execution_count": 45,
     "metadata": {},
     "output_type": "execute_result"
    }
   ],
   "source": [
    "# make a copy of df dataframe\n",
    "\n",
    "df_renamed = df_filtered.copy()\n",
    "\n",
    "cols_to_keepOut = [\"qflag\", \n",
    "                   \"speed_flag\", \n",
    "                   \"S3\", \n",
    "                   \"w6_took_the_survey\", \n",
    "                   \"partnership_status\"]\n",
    "\n",
    "df_renamed.drop(cols_to_keepOut, axis=1, inplace=True)\n",
    "\n",
    "cols_to_rename = {\n",
    "    \"CASEID_NEW\": \"ID\",\n",
    "    \"w6_sex_frequency\": \"sexFrequency\",\n",
    "    \"ppp20072\": \"attendReligiousServiceFreq\",\n",
    "    \"pphhsize\": \"householdSize\",\n",
    "    \"pphouse\": \"houseType\",\n",
    "    \"ppincimp\": \"householdIncome\",\n",
    "    \"ppmsacat\": \"isMetroArea\",\n",
    "    \"pprent\": \"ownHouseRentOther\", # own, rent, other\n",
    "    \"ppwork\": \"employmentStatus\", # employment status\n",
    "    \"w6_q15a1_truncated\": \"subjectGrewUpInUS\", # subject grew up in US?\n",
    "    \"w6_q15a4_truncated\": \"subjectCountryWhenMetPartner\", # subject's living country when met partner\n",
    "    \"w6_q16\": \"numRelativesSeePerMonth\", # how many relatives subject sees per month?\n",
    "    \"w6_q17\": \"numOfTimesMarried\", # how many times has subject been married?\n",
    "    \"w6_q23\": \"whoEarnedMore\", # Who earned more (in 2016 or when last together)\n",
    "    \"interracial_5cat\": \"interracial\", # based on w6_subject_race and w6_q6b\n",
    "    \"age_when_met\": \"subjectAgeWhenMet\", # age when met in years,=ppage-(2017- w6_q21a_year)\n",
    "    \"w6_q4\": \"partnerGender\", # partner gender\n",
    "    \"partyid7\": \"subjectPoliticalParty\", # subject's political party\n",
    "    \"w6_q12\": \"partnerPoliticalParty\", # partner's political party\n",
    "    \"ppgender\": \"subjectGender\", # subject gender\n",
    "    \"S1\": \"isMarried\", # isMarried\n",
    "    \"ppage\": \"subjectAge\", # subject age\n",
    "    \"w6_q9\": \"partnerAge\", # partner's age in 2017\n",
    "    \"subject_yrsed\": \"subjectEduc_years\", # RECODE of ppeduc (Education (Highest Degree Received))\n",
    "    \"partner_yrsed\": \"partnerEduc_years\", # RECODE of w6_q10 (partner's educational attainment)\n",
    "    \"subject_mother_yrsed\": \"subjectMotherEduc_years\", # RECODE of w6_q14 (Subject's mother's educational attainment)\n",
    "    \"partner_mother_yrsed\": \"partnerMotherEduc_years\", # RECODE of w6_q11 (partner's mother's Education)\n",
    "    \"w6_subject_race\": \"subjectRace\", # based on single races Race_x\n",
    "    \"w6_q6b\": \"partnerRace\", # partner's race\n",
    "    \"PPREG4\": \"region\", # region\n",
    "    \"w6_same_sex_couple_gender\": \"straightGayLesbian\", # same sex couple specific (0=straight, 1=gay, 2=lesbian)\n",
    "    \"w6_attraction\": \"genderSubjectAttractedTo\", \n",
    "        # what gender(s) subject attracted to? (opposite gender, opposite but, both, same but, same gender)\n",
    "    \"w6_q19\": \"isLivingTogether\", # couple living together?\n",
    "    \"w6_q34\": \"relationshipQuality\", # how would you describe the quality of your relationship with partner?\n",
    "    \"w6_identity_all\": \"subjectSexualIdentity\", # subject sexual identity\n",
    "    \"PPT01\": \"numOfHouseMembersAges0to1\", # household member age (number of babies in household ages 0-1)\n",
    "    \"PPT25\": \"numOfHouseMembersAges2to5\", # household member age (number of toddlers in household ages 2-5)\n",
    "    \"PPT612\": \"numOfHouseMembersAges6to12\", # household member age (number of children in household ages 6-12)\n",
    "    \"PPT1317\": \"numOfHouseMembersAges13to17\", # household member age (number of teens in household ages 13-17)\n",
    "    \"PPT18OV\": \"numOfHouseMembersAges18toOver\", # household member age (number of adults in household ages 18+)\n",
    "    \n",
    "    # (Fractions) Year/Month of Relationship Stages ---------------\n",
    "    \n",
    "    \"year_fraction_met\": \"met_YearFraction\", # w6_q21a_year+((w6_q21a_month-0.5)/12)\n",
    "    \"year_fraction_relstart\": \"shipStart_YearFraction\", # w6_q21b_year+((w6_q21b_month-0.5)/12)\n",
    "    \"time_from_met_to_rel\": \"met_to_shipStart_diff\", # year_fraction_relstart-year_fraction_met\n",
    "    \"year_fraction_first_cohab\": \"moveIn_YearFraction\", # w6_q21c_year+((w6_q21c_month-0.5)/12)\n",
    "    \"time_from_rel_to_cohab\": \"shipStart_to_moveIn_YearFraction\", # year_fraction_first_cohab-year_fraction_relstart, neg reset to zero\n",
    "    \n",
    "    \n",
    "    # met in person (specific) -----------------------------------------------------\n",
    "    \n",
    "    \"hcm2017q24_met_through_family\": \"metThru_family\", # 1 if R_family or P_family =1\n",
    "    \"hcm2017q24_met_through_friend\": \"metThru_friend\", # 1 if R_friend or P_friend=1\n",
    "    \"hcm2017q24_met_through_as_nghbrs\": \"metThru_orAs_neighbors\", # 1 if R_neighbor or P_neighbor=1\n",
    "    \"hcm2017q24_met_as_through_cowork\": \"metThru_orAs_coworkers\", # 1 if R_cowork or P_cowork=1\n",
    "    \n",
    "    \"hcm2017q24_school\": \"metIn_school\", # met in primary or secondary school\n",
    "    \"hcm2017q24_college\": \"metIn_college\", # met in college\n",
    "    \"hcm2017q24_mil\": \"metIn_military\", # met during military service\n",
    "    \"hcm2017q24_church\": \"metIn_church\", # met in or through church or religious organization\n",
    "    \"hcm2017q24_vol_org\": \"metIn_voluntaryOrg\", # met through voluntary organization (non-church)\n",
    "    \"hcm2017q24_customer\": \"metAs_customerAndClient\", # customer-client relationship\n",
    "    \"hcm2017q24_bar_restaurant\": \"metIn_restaurantOrBar\", # restaurant, or other public social gathering place\n",
    "    \"hcm2017q24_party\": \"metIn_privateParty\", # private party\n",
    "    \n",
    "    \"hcm2017q24_public\": \"metIn_public\", # met in public place\n",
    "    \"hcm2017q24_blind_date\": \"metOn_blindDate\", # met on blind date\n",
    "    \"hcm2017q24_vacation\": \"metOn_vacation\", # met while on vacation\n",
    "    \"hcm2017q24_single_serve_nonint\": \"metThru_notInternetDatingService\", # non internet single service\n",
    "    \"hcm2017q24_business_trip\": \"metOn_businessTrip\", # met while on business trip\n",
    "    \"hcm2017q24_work_neighbors\": \"metAs_coworkers\", # met as work neighbors\n",
    "    \n",
    "    \n",
    "    # Met online / dating app -----------------------------------------------\n",
    "    \n",
    "    \n",
    "    \"hcm2017q24_internet_dating\": \"metOnline_datingSiteOrApp\", # met through Internet dating or phone app\n",
    "    \"hcm2017q24_internet_soc_network\": \"metOnline_socialNetwork\", # met through internet social networking\n",
    "    \n",
    "    \"hcm2017q24_internet_game\": \"metOnline_gaming\", # met through online gaming\n",
    "    \"hcm2017q24_internet_chat\": \"metOnline_chat\", # met through Internet chat\n",
    "    \"hcm2017q24_internet_org\": \"metOnline_nonDatingSite\", # met through Internet site not mainly dedicated to dating\n",
    "    \n",
    "    \"hcm2017q24_internet_other\": \"metOnline_other\", # Internet, not otherwise classified\n",
    "\n",
    "    \"hcm2017q24_met_online\": \"metOnline_all\", # met online, all kinds\n",
    "\n",
    "\n",
    "}\n",
    "\n",
    "    \n",
    "df_renamed.rename(columns=cols_to_rename, inplace=True)\n",
    "\n",
    "list(df_renamed.columns)"
   ]
  },
  {
   "cell_type": "markdown",
   "id": "5d177a63",
   "metadata": {},
   "source": [
    "---\n",
    "---\n",
    "\n",
    "# Recoding Features\n",
    "\n",
    "- Reduce the categories of education down to just five:\n",
    "\n",
    "\n",
    "    - 1-Less than high school\n",
    "    - 2-High school\n",
    "    - 3-Some college\n",
    "    - 4-Bachelor's degree\n",
    "    - 5-Professional or Graduate degree"
   ]
  },
  {
   "cell_type": "markdown",
   "id": "4698b337",
   "metadata": {},
   "source": [
    "**NOTE: The code below has been commented out as the categorical education columns are redundant. We already have numeric education columns.**"
   ]
  },
  {
   "cell_type": "code",
   "execution_count": 46,
   "id": "ba598985",
   "metadata": {},
   "outputs": [],
   "source": [
    "# print(list(df_renamed[\"ppeduc\"].unique()))\n",
    "# print(\"- - -\")\n",
    "# print(list(df_renamed[\"w6_q10\"].unique()))"
   ]
  },
  {
   "cell_type": "markdown",
   "id": "4cb4ed03",
   "metadata": {},
   "source": [
    "**NOTE: The code below has been commented out as the categorical education columns are redundant. We already have numeric education columns.**"
   ]
  },
  {
   "cell_type": "code",
   "execution_count": 47,
   "id": "43f92337",
   "metadata": {},
   "outputs": [],
   "source": [
    "# education_recodings = {\"No formal education\": \"1-Less than high school\",\n",
    "#                        \"1st-4th grade\": \"1-Less than high school\",\n",
    "#                        \"1st, 2nd, 3rd, or 4th grade\": \"1-Less than high school\",\n",
    "#                        \"5th or 6th grade\": \"1-Less than high school\",\n",
    "#                        \"7th or 8th grade\": \"1-Less than high school\",\n",
    "#                        \"9th grade\": \"1-Less than high school\",\n",
    "#                        \"10th grade\": \"1-Less than high school\",\n",
    "#                        \"11th grade\": \"1-Less than high school\",\n",
    "#                        \"12th grade no diploma\": \"1-Less than high school\",\n",
    "#                        \"12th grade NO DIPLOMA\": \"1-Less than high school\",\n",
    "#                        \"HS graduate or GED\": \"2-High school\",\n",
    "#                        \"HIGH SCHOOL GRADUATE - high school DIPLOMA or the equivalent (GED)\": \"2-High school\",\n",
    "#                        \"Some college, no degree\": \"3-Some college\",\n",
    "#                        \"Associate degree\": \"3-Some college\",\n",
    "#                        \"Bachelors degree\": \"4-Bachelor's degree\",\n",
    "#                        \"Bachelor\\x92s degree\": \"4-Bachelor's degree\",\n",
    "#                        \"Master\\x92s degree\": \"5-Professional or Graduate degree\",\n",
    "#                        \"Masters degree\": \"5-Professional or Graduate degree\",\n",
    "#                        \"Professional or Doctorate degree\": \"5-Professional or Graduate degree\"}\n",
    "\n",
    "\n",
    "# df_renamed[\"ppeduc\"].replace(education_recodings, inplace=True) # subject's education\n",
    "# df_renamed[\"w6_q10\"].replace(education_recodings, inplace=True) # partner's education\n",
    "# df_renamed[\"w6_q14\"].replace(education_recodings, inplace=True) # subjects's mother's education\n",
    "# df_renamed[\"w6_q11\"].replace(education_recodings, inplace=True) # partner's mother's education"
   ]
  },
  {
   "cell_type": "markdown",
   "id": "6e273d28",
   "metadata": {},
   "source": [
    "**NOTE: The code below has been commented out as the categorical education columns are redundant. We already have numeric education columns.**"
   ]
  },
  {
   "cell_type": "code",
   "execution_count": 48,
   "id": "de2baa7d",
   "metadata": {},
   "outputs": [],
   "source": [
    "# print(list(df_renamed[\"ppeduc\"].unique()))\n",
    "# print(\"- - -\")\n",
    "# print(list(df_renamed[\"w6_q10\"].unique()))"
   ]
  },
  {
   "cell_type": "markdown",
   "id": "c2aacb81",
   "metadata": {},
   "source": [
    "### Rename Education Columns"
   ]
  },
  {
   "cell_type": "markdown",
   "id": "57423760",
   "metadata": {},
   "source": [
    "**NOTE: The code below has been commented out as the categorical education columns are redundant. We already have numeric education columns.**"
   ]
  },
  {
   "cell_type": "code",
   "execution_count": 49,
   "id": "05bc5537",
   "metadata": {
    "scrolled": true
   },
   "outputs": [],
   "source": [
    "# cols_to_rename = {\n",
    "#     \"ppeduc\": \"subjectEduc_cat\",\n",
    "#     \"w6_q10\": \"partnerEduc_cat\",\n",
    "#     \"w6_q14\": \"subjectMotherEduc_cat\",\n",
    "#     \"w6_q11\": \"partnerMotherEduc_cat\"\n",
    "# }\n",
    "\n",
    "# df_renamed.rename(columns=cols_to_rename, inplace=True)\n",
    "\n",
    "# list(df_renamed.columns)"
   ]
  },
  {
   "cell_type": "markdown",
   "id": "3d04a753",
   "metadata": {},
   "source": [
    "## Recode householdIncome to be numeric"
   ]
  },
  {
   "cell_type": "code",
   "execution_count": 50,
   "id": "0a22d79a",
   "metadata": {
    "scrolled": true
   },
   "outputs": [
    {
     "data": {
      "text/plain": [
       "['$40,000 to $49,999',\n",
       " '$150,000 to $174,999',\n",
       " '$200,000 to $249,999',\n",
       " '$175,000 to $199,999',\n",
       " '$75,000 to $84,999',\n",
       " '$50,000 to $59,999',\n",
       " '$60,000 to $74,999',\n",
       " '$15,000 to $19,999',\n",
       " '$250,000 or more',\n",
       " '$85,000 to $99,999',\n",
       " '$100,000 to $124,999',\n",
       " '$20,000 to $24,999',\n",
       " '$30,000 to $34,999',\n",
       " '$10,000 to $12,499',\n",
       " '$25,000 to $29,999',\n",
       " '$5,000 to $7,499',\n",
       " '$125,000 to $149,999',\n",
       " '$35,000 to $39,999',\n",
       " 'Less than $5,000',\n",
       " '$7,500 to $9,999',\n",
       " '$12,500 to $14,999']"
      ]
     },
     "execution_count": 50,
     "metadata": {},
     "output_type": "execute_result"
    }
   ],
   "source": [
    "list(df_renamed[\"householdIncome\"].unique())"
   ]
  },
  {
   "cell_type": "markdown",
   "id": "5c0cf398",
   "metadata": {},
   "source": [
    "Recoding income categories into approximate mid-point numeric values."
   ]
  },
  {
   "cell_type": "code",
   "execution_count": 51,
   "id": "0207af1e",
   "metadata": {
    "scrolled": true
   },
   "outputs": [
    {
     "data": {
      "text/plain": [
       "[45000,\n",
       " 150000,\n",
       " 225000,\n",
       " 187500,\n",
       " 80000,\n",
       " 55000,\n",
       " 67500,\n",
       " 17500,\n",
       " 300000,\n",
       " 92500,\n",
       " 112500,\n",
       " 22500,\n",
       " 32500,\n",
       " 11250,\n",
       " 27500,\n",
       " 6250,\n",
       " 137500,\n",
       " 37500,\n",
       " 2500,\n",
       " 8750,\n",
       " 13750]"
      ]
     },
     "execution_count": 51,
     "metadata": {},
     "output_type": "execute_result"
    }
   ],
   "source": [
    "income_recodings = {\n",
    "    'Less than $5,000': 2500,\n",
    "    '$5,000 to $7,499': 6250,\n",
    "    '$7,500 to $9,999': 8750,\n",
    "    '$10,000 to $12,499': 11250,\n",
    "    '$12,500 to $14,999': 13750,\n",
    "    '$15,000 to $19,999': 17500,\n",
    "    '$20,000 to $24,999': 22500,\n",
    "    '$25,000 to $29,999': 27500,\n",
    "    '$30,000 to $34,999': 32500,\n",
    "    '$35,000 to $39,999': 37500,\n",
    "    '$40,000 to $49,999': 45000, # gap of 10k\n",
    "    '$50,000 to $59,999': 55000, # gap of 10k\n",
    "    '$60,000 to $74,999': 67500, # gap of 15k\n",
    "    '$75,000 to $84,999': 80000, # gap of 10k\n",
    "    '$85,000 to $99,999': 92500, # gap of 15k\n",
    "    '$100,000 to $124,999': 112500, # gap of 25k\n",
    "    '$125,000 to $149,999': 137500, # gap of 25k\n",
    "    '$150,000 to $174,999': 150000, # gap of 25k\n",
    "    '$175,000 to $199,999': 187500, # gap of 25k\n",
    "    '$200,000 to $249,999': 225000, # gap of 50k\n",
    "    '$250,000 or more': 300000, # gap of 100k\n",
    "}\n",
    "\n",
    "df_renamed[\"householdIncome\"].replace(income_recodings, inplace=True)\n",
    "\n",
    "list(df_renamed[\"householdIncome\"].unique())"
   ]
  },
  {
   "cell_type": "markdown",
   "id": "2b4d61f7",
   "metadata": {},
   "source": [
    "## Recode employmentStatus"
   ]
  },
  {
   "cell_type": "code",
   "execution_count": 52,
   "id": "dd7e97da",
   "metadata": {},
   "outputs": [
    {
     "data": {
      "text/plain": [
       "['Working - as a paid employee',\n",
       " 'Not working - other',\n",
       " 'Not working - retired',\n",
       " 'Working - self-employed',\n",
       " 'Not working - looking for work',\n",
       " 'Not working - disabled',\n",
       " 'Not working - on temporary layoff from a job']"
      ]
     },
     "execution_count": 52,
     "metadata": {},
     "output_type": "execute_result"
    }
   ],
   "source": [
    "list(df_renamed['employmentStatus'].unique())"
   ]
  },
  {
   "cell_type": "code",
   "execution_count": 53,
   "id": "14c121eb",
   "metadata": {},
   "outputs": [
    {
     "data": {
      "text/plain": [
       "['employed', 'unemployed', 'retired']"
      ]
     },
     "execution_count": 53,
     "metadata": {},
     "output_type": "execute_result"
    }
   ],
   "source": [
    "employment_recodings = {\n",
    "    'Working - as a paid employee': \"employed\",\n",
    "     'Not working - other': \"unemployed\",\n",
    "     'Not working - retired': \"retired\",\n",
    "     'Working - self-employed': \"unemployed\",\n",
    "     'Not working - looking for work': \"unemployed\",\n",
    "     'Not working - disabled': \"unemployed\",\n",
    "     'Not working - on temporary layoff from a job': \"unemployed\"\n",
    "}\n",
    "\n",
    "df_renamed[\"employmentStatus\"].replace(employment_recodings, inplace=True)\n",
    "\n",
    "list(df_renamed[\"employmentStatus\"].unique())"
   ]
  },
  {
   "cell_type": "markdown",
   "id": "c5af05dd",
   "metadata": {},
   "source": [
    "## Recode subjectPoliticalParty & partnerPoliticalParty\n",
    "\n",
    "- subjectPoliticalParty to subjectParty_DemPos_RepNeg\n",
    "\n",
    "- partnerPoliticalParty to partnerParty_DemPos_RepNeg"
   ]
  },
  {
   "cell_type": "code",
   "execution_count": 54,
   "id": "43ce1141",
   "metadata": {},
   "outputs": [
    {
     "data": {
      "text/plain": [
       "['Leans Democrat',\n",
       " 'Not Strong Republican',\n",
       " 'Strong Democrat',\n",
       " 'Not Strong Democrat',\n",
       " 'Leans Republican',\n",
       " 'Strong Republican',\n",
       " 'Undecided/Independent/Other']"
      ]
     },
     "execution_count": 54,
     "metadata": {},
     "output_type": "execute_result"
    }
   ],
   "source": [
    "list(df_renamed['subjectPoliticalParty'].unique())"
   ]
  },
  {
   "cell_type": "code",
   "execution_count": 55,
   "id": "65ce0838",
   "metadata": {},
   "outputs": [
    {
     "name": "stdout",
     "output_type": "stream",
     "text": [
      "[1, -2, 3, 2, -1, -3, 0]\n",
      "[-1, 1, 0, 3, 2, -3, -2]\n"
     ]
    }
   ],
   "source": [
    "party_recodings = {\n",
    "    'Strong Democrat':3,\n",
    "    'Not Strong Democrat':2,\n",
    "    'Leans Democrat':1,\n",
    "    'Undecided/Independent/Other':0,\n",
    "    'Leans Republican':-1,\n",
    "    'Not Strong Republican':-2,\n",
    "    'Strong Republican':-3,\n",
    "    'Refused':0\n",
    "}\n",
    "\n",
    "df_renamed[\"subjectParty_DemPos_RepNeg\"] = df_renamed[\"subjectPoliticalParty\"].replace(party_recodings)\n",
    "df_renamed[\"partnerParty_DemPos_RepNeg\"] = df_renamed[\"partnerPoliticalParty\"].replace(party_recodings)\n",
    "\n",
    "print(list(df_renamed[\"subjectParty_DemPos_RepNeg\"].unique()))\n",
    "print(list(df_renamed[\"partnerParty_DemPos_RepNeg\"].unique()))"
   ]
  },
  {
   "cell_type": "markdown",
   "id": "6afa53a3",
   "metadata": {},
   "source": [
    "---\n",
    "---\n",
    "\n",
    "# Create Features"
   ]
  },
  {
   "cell_type": "markdown",
   "id": "9fae50d6",
   "metadata": {},
   "source": [
    "### Create binary \"isHispanic\" feature from \"ppethm\""
   ]
  },
  {
   "cell_type": "code",
   "execution_count": 56,
   "id": "0b491100",
   "metadata": {},
   "outputs": [
    {
     "name": "stdout",
     "output_type": "stream",
     "text": [
      "['White, Non-Hispanic', 'Hispanic', 'Black, Non-Hispanic', '2+ Races, Non-Hispanic', 'Other, Non-Hispanic']\n"
     ]
    }
   ],
   "source": [
    "print(list(df_renamed[\"ppethm\"].unique()))"
   ]
  },
  {
   "cell_type": "code",
   "execution_count": 57,
   "id": "90dd409d",
   "metadata": {},
   "outputs": [
    {
     "data": {
      "text/plain": [
       "array(['no', 'yes'], dtype=object)"
      ]
     },
     "execution_count": 57,
     "metadata": {},
     "output_type": "execute_result"
    }
   ],
   "source": [
    "df_renamed[\"isHispanic\"] = np.where(df_renamed[\"ppethm\"] == \"Hispanic\", \"yes\", \"no\")\n",
    "\n",
    "df_renamed.drop(\"ppethm\", axis=1, inplace=True)\n",
    "\n",
    "df_renamed[\"isHispanic\"].unique()"
   ]
  },
  {
   "cell_type": "code",
   "execution_count": 58,
   "id": "b146210b",
   "metadata": {
    "scrolled": true
   },
   "outputs": [
    {
     "data": {
      "text/plain": [
       "['ID',\n",
       " 'sexFrequency',\n",
       " 'attendReligiousServiceFreq',\n",
       " 'householdSize',\n",
       " 'houseType',\n",
       " 'householdIncome',\n",
       " 'isMetroArea',\n",
       " 'ownHouseRentOther',\n",
       " 'employmentStatus',\n",
       " 'subjectGrewUpInUS',\n",
       " 'subjectCountryWhenMetPartner',\n",
       " 'numRelativesSeePerMonth',\n",
       " 'numOfTimesMarried',\n",
       " 'whoEarnedMore',\n",
       " 'interracial',\n",
       " 'subjectAgeWhenMet',\n",
       " 'partnerGender',\n",
       " 'subjectPoliticalParty',\n",
       " 'partnerPoliticalParty',\n",
       " 'subjectGender',\n",
       " 'isMarried',\n",
       " 'subjectAge',\n",
       " 'partnerAge',\n",
       " 'subjectEduc_years',\n",
       " 'partnerEduc_years',\n",
       " 'subjectMotherEduc_years',\n",
       " 'partnerMotherEduc_years',\n",
       " 'subjectRace',\n",
       " 'partnerRace',\n",
       " 'region',\n",
       " 'straightGayLesbian',\n",
       " 'genderSubjectAttractedTo',\n",
       " 'isLivingTogether',\n",
       " 'relationshipQuality',\n",
       " 'subjectSexualIdentity',\n",
       " 'numOfHouseMembersAges0to1',\n",
       " 'numOfHouseMembersAges2to5',\n",
       " 'numOfHouseMembersAges6to12',\n",
       " 'numOfHouseMembersAges13to17',\n",
       " 'numOfHouseMembersAges18toOver',\n",
       " 'w6_q21a_month',\n",
       " 'w6_q21b_month',\n",
       " 'met_YearFraction',\n",
       " 'shipStart_YearFraction',\n",
       " 'met_to_shipStart_diff',\n",
       " 'moveIn_YearFraction',\n",
       " 'shipStart_to_moveIn_YearFraction',\n",
       " 'metThru_family',\n",
       " 'metThru_friend',\n",
       " 'metThru_orAs_neighbors',\n",
       " 'metThru_orAs_coworkers',\n",
       " 'metIn_school',\n",
       " 'metIn_college',\n",
       " 'metIn_military',\n",
       " 'metIn_church',\n",
       " 'metIn_voluntaryOrg',\n",
       " 'metAs_customerAndClient',\n",
       " 'metIn_restaurantOrBar',\n",
       " 'metIn_privateParty',\n",
       " 'metIn_public',\n",
       " 'metOn_blindDate',\n",
       " 'metOn_vacation',\n",
       " 'metThru_notInternetDatingService',\n",
       " 'metOn_businessTrip',\n",
       " 'metAs_coworkers',\n",
       " 'metOnline_other',\n",
       " 'metOnline_datingSiteOrApp',\n",
       " 'metOnline_socialNetwork',\n",
       " 'metOnline_gaming',\n",
       " 'metOnline_chat',\n",
       " 'metOnline_nonDatingSite',\n",
       " 'metOnline_all',\n",
       " 'subjectParty_DemPos_RepNeg',\n",
       " 'partnerParty_DemPos_RepNeg',\n",
       " 'isHispanic']"
      ]
     },
     "execution_count": 58,
     "metadata": {},
     "output_type": "execute_result"
    }
   ],
   "source": [
    "list(df_renamed.columns)"
   ]
  },
  {
   "cell_type": "markdown",
   "id": "30b31eb8",
   "metadata": {},
   "source": [
    "### Create partyDifference"
   ]
  },
  {
   "cell_type": "code",
   "execution_count": 59,
   "id": "196fa887",
   "metadata": {},
   "outputs": [
    {
     "data": {
      "text/plain": [
       "array([2, 1, 0, 3, 5, 6, 4], dtype=int64)"
      ]
     },
     "execution_count": 59,
     "metadata": {},
     "output_type": "execute_result"
    }
   ],
   "source": [
    "def partyDiff(row):\n",
    "\n",
    "    return abs(row[\"subjectParty_DemPos_RepNeg\"] - row[\"partnerParty_DemPos_RepNeg\"])\n",
    "\n",
    "df_renamed['partyDifference'] = df_renamed.apply(partyDiff, axis=1)\n",
    "\n",
    "df_renamed['partyDifference'].unique()"
   ]
  },
  {
   "cell_type": "code",
   "execution_count": 60,
   "id": "8536be69",
   "metadata": {
    "scrolled": true
   },
   "outputs": [
    {
     "data": {
      "text/plain": [
       "['ID',\n",
       " 'sexFrequency',\n",
       " 'attendReligiousServiceFreq',\n",
       " 'householdSize',\n",
       " 'houseType',\n",
       " 'householdIncome',\n",
       " 'isMetroArea',\n",
       " 'ownHouseRentOther',\n",
       " 'employmentStatus',\n",
       " 'subjectGrewUpInUS',\n",
       " 'subjectCountryWhenMetPartner',\n",
       " 'numRelativesSeePerMonth',\n",
       " 'numOfTimesMarried',\n",
       " 'whoEarnedMore',\n",
       " 'interracial',\n",
       " 'subjectAgeWhenMet',\n",
       " 'partnerGender',\n",
       " 'subjectGender',\n",
       " 'isMarried',\n",
       " 'subjectAge',\n",
       " 'partnerAge',\n",
       " 'subjectEduc_years',\n",
       " 'partnerEduc_years',\n",
       " 'subjectMotherEduc_years',\n",
       " 'partnerMotherEduc_years',\n",
       " 'subjectRace',\n",
       " 'partnerRace',\n",
       " 'region',\n",
       " 'straightGayLesbian',\n",
       " 'genderSubjectAttractedTo',\n",
       " 'isLivingTogether',\n",
       " 'relationshipQuality',\n",
       " 'subjectSexualIdentity',\n",
       " 'numOfHouseMembersAges0to1',\n",
       " 'numOfHouseMembersAges2to5',\n",
       " 'numOfHouseMembersAges6to12',\n",
       " 'numOfHouseMembersAges13to17',\n",
       " 'numOfHouseMembersAges18toOver',\n",
       " 'w6_q21a_month',\n",
       " 'w6_q21b_month',\n",
       " 'met_YearFraction',\n",
       " 'shipStart_YearFraction',\n",
       " 'met_to_shipStart_diff',\n",
       " 'moveIn_YearFraction',\n",
       " 'shipStart_to_moveIn_YearFraction',\n",
       " 'metThru_family',\n",
       " 'metThru_friend',\n",
       " 'metThru_orAs_neighbors',\n",
       " 'metThru_orAs_coworkers',\n",
       " 'metIn_school',\n",
       " 'metIn_college',\n",
       " 'metIn_military',\n",
       " 'metIn_church',\n",
       " 'metIn_voluntaryOrg',\n",
       " 'metAs_customerAndClient',\n",
       " 'metIn_restaurantOrBar',\n",
       " 'metIn_privateParty',\n",
       " 'metIn_public',\n",
       " 'metOn_blindDate',\n",
       " 'metOn_vacation',\n",
       " 'metThru_notInternetDatingService',\n",
       " 'metOn_businessTrip',\n",
       " 'metAs_coworkers',\n",
       " 'metOnline_other',\n",
       " 'metOnline_datingSiteOrApp',\n",
       " 'metOnline_socialNetwork',\n",
       " 'metOnline_gaming',\n",
       " 'metOnline_chat',\n",
       " 'metOnline_nonDatingSite',\n",
       " 'metOnline_all',\n",
       " 'subjectParty_DemPos_RepNeg',\n",
       " 'partnerParty_DemPos_RepNeg',\n",
       " 'isHispanic',\n",
       " 'partyDifference']"
      ]
     },
     "execution_count": 60,
     "metadata": {},
     "output_type": "execute_result"
    }
   ],
   "source": [
    "# Drop all political party coluymns (Already replaced by numeric columns and samePoliticalParty)\n",
    "\n",
    "columns = [\n",
    "        \"subjectPoliticalParty\",\n",
    "        \"partnerPoliticalParty\",\n",
    "    ]\n",
    "\n",
    "df_renamed.drop(columns, axis=1, inplace=True)\n",
    "\n",
    "list(df_renamed.columns)"
   ]
  },
  {
   "cell_type": "markdown",
   "id": "181288f3",
   "metadata": {},
   "source": [
    "### Create season_met\n",
    "\n",
    "- spring (March, April, May)\n",
    "- summer (June, July, August)\n",
    "- autumn (September, October, November)\n",
    "- winter (December, January, February)"
   ]
  },
  {
   "cell_type": "code",
   "execution_count": 61,
   "id": "6eea83bb",
   "metadata": {},
   "outputs": [
    {
     "data": {
      "text/plain": [
       "['March',\n",
       " 'May',\n",
       " 'January',\n",
       " 'September',\n",
       " 'December',\n",
       " 'October',\n",
       " 'July',\n",
       " 'June',\n",
       " 'August',\n",
       " 'April',\n",
       " nan,\n",
       " 'November',\n",
       " 'February']"
      ]
     },
     "execution_count": 61,
     "metadata": {},
     "output_type": "execute_result"
    }
   ],
   "source": [
    "# \"w6_q21a_month\", # month subject first met partner\n",
    "\n",
    "list(df_renamed[\"w6_q21a_month\"].unique())"
   ]
  },
  {
   "cell_type": "code",
   "execution_count": 62,
   "id": "4d6f4b95",
   "metadata": {},
   "outputs": [
    {
     "data": {
      "text/plain": [
       "['spring', 'winter', 'autumn', 'summer', None]"
      ]
     },
     "execution_count": 62,
     "metadata": {},
     "output_type": "execute_result"
    }
   ],
   "source": [
    "season_months = {\n",
    "    'spring':['March', 'April', 'May'],\n",
    "    'summer':['June', 'July', 'August'],\n",
    "    'autumn':['September', 'October', 'November'],\n",
    "    'winter':['December', 'January', 'February']\n",
    "}\n",
    "\n",
    "def getSeason(row, column):\n",
    "\n",
    "    for season in season_months.keys():\n",
    "        \n",
    "        if row[column] in season_months[season]:\n",
    "            \n",
    "            return season\n",
    "        \n",
    "    return None\n",
    "\n",
    "\n",
    "df_renamed['season_met'] = df_renamed.apply(getSeason, args=['w6_q21a_month'], axis=1)\n",
    "\n",
    "list(df_renamed['season_met'].unique())"
   ]
  },
  {
   "cell_type": "markdown",
   "id": "c534268e",
   "metadata": {},
   "source": [
    "### Create season_shipStart"
   ]
  },
  {
   "cell_type": "code",
   "execution_count": 63,
   "id": "958f7c4a",
   "metadata": {},
   "outputs": [
    {
     "data": {
      "text/plain": [
       "['March',\n",
       " 'August',\n",
       " 'June',\n",
       " 'April',\n",
       " 'October',\n",
       " 'January',\n",
       " 'July',\n",
       " 'November',\n",
       " 'May',\n",
       " 'September',\n",
       " 'February',\n",
       " 'December',\n",
       " nan]"
      ]
     },
     "execution_count": 63,
     "metadata": {},
     "output_type": "execute_result"
    }
   ],
   "source": [
    "# \"w6_q21b_month\", # month subject began romantic relationship w partner\n",
    "\n",
    "list(df_renamed[\"w6_q21b_month\"].unique())"
   ]
  },
  {
   "cell_type": "code",
   "execution_count": 64,
   "id": "2187f3a3",
   "metadata": {},
   "outputs": [
    {
     "data": {
      "text/plain": [
       "['spring', 'summer', 'autumn', 'winter', None]"
      ]
     },
     "execution_count": 64,
     "metadata": {},
     "output_type": "execute_result"
    }
   ],
   "source": [
    "df_renamed['season_shipStart'] = df_renamed.apply(getSeason, args=['w6_q21b_month'], axis=1)\n",
    "\n",
    "list(df_renamed['season_shipStart'].unique())"
   ]
  },
  {
   "cell_type": "markdown",
   "id": "718f0a12",
   "metadata": {},
   "source": [
    "**Removing the month columns.**\n",
    "\n",
    "(Already used for their purpose of converting to seasons.)"
   ]
  },
  {
   "cell_type": "code",
   "execution_count": 65,
   "id": "dd3995d7",
   "metadata": {},
   "outputs": [],
   "source": [
    "df_renamed.drop(['w6_q21b_month', 'w6_q21a_month'], axis=1, inplace=True)"
   ]
  },
  {
   "cell_type": "markdown",
   "id": "313c6cf4",
   "metadata": {},
   "source": [
    "### Create ageGap"
   ]
  },
  {
   "cell_type": "code",
   "execution_count": 66,
   "id": "31eae0df",
   "metadata": {},
   "outputs": [],
   "source": [
    "def getDiff(row):\n",
    "\n",
    "    return abs(row[\"subjectAge\"] - row[\"partnerAge\"])\n",
    "\n",
    "\n",
    "df_renamed[\"ageGap\"] = df_renamed.apply(getDiff, axis=1)"
   ]
  },
  {
   "cell_type": "markdown",
   "id": "8093f428",
   "metadata": {},
   "source": [
    "### Create timesDivorcedOrWidowed:\n",
    "\n",
    "- numOfTimesMarried clashes with isMarried:\n",
    "\n",
    "    - a value of married 1 time can mean an ongoing marriage, divorces, or spouse deaths.\n",
    "    \n",
    "Create timesDivorced and drop numOfTimesMarried"
   ]
  },
  {
   "cell_type": "code",
   "execution_count": 67,
   "id": "381101d5",
   "metadata": {},
   "outputs": [
    {
     "data": {
      "text/plain": [
       "['No, I am not Married', 'Yes, I am Married']\n",
       "Categories (2, object): ['Yes, I am Married' < 'No, I am not Married']"
      ]
     },
     "execution_count": 67,
     "metadata": {},
     "output_type": "execute_result"
    }
   ],
   "source": [
    "df_renamed[\"isMarried\"].unique()"
   ]
  },
  {
   "cell_type": "code",
   "execution_count": 68,
   "id": "94a7d84a",
   "metadata": {},
   "outputs": [
    {
     "data": {
      "text/plain": [
       "array([ 1.,  0.,  3.,  2.,  4., nan])"
      ]
     },
     "execution_count": 68,
     "metadata": {},
     "output_type": "execute_result"
    }
   ],
   "source": [
    "def getDivorces(row):\n",
    "    \n",
    "    if pd.isnull(row[\"isMarried\"]) or pd.isnull(row[\"numOfTimesMarried\"]):\n",
    "        \n",
    "        return None\n",
    "    \n",
    "    isMarried = 0 if row[\"isMarried\"][0:2] == \"No\" else 1\n",
    "    \n",
    "    return int(row[\"numOfTimesMarried\"]) - isMarried\n",
    "\n",
    "\n",
    "df_renamed[\"timesDivorcedOrWidowed\"] = df_renamed.apply(getDivorces, axis=1)\n",
    "\n",
    "df_renamed[\"timesDivorcedOrWidowed\"].unique()"
   ]
  },
  {
   "cell_type": "code",
   "execution_count": 69,
   "id": "2d4ad65a",
   "metadata": {
    "scrolled": true
   },
   "outputs": [
    {
     "data": {
      "text/plain": [
       "['ID',\n",
       " 'sexFrequency',\n",
       " 'attendReligiousServiceFreq',\n",
       " 'householdSize',\n",
       " 'houseType',\n",
       " 'householdIncome',\n",
       " 'isMetroArea',\n",
       " 'ownHouseRentOther',\n",
       " 'employmentStatus',\n",
       " 'subjectGrewUpInUS',\n",
       " 'subjectCountryWhenMetPartner',\n",
       " 'numRelativesSeePerMonth',\n",
       " 'whoEarnedMore',\n",
       " 'interracial',\n",
       " 'subjectAgeWhenMet',\n",
       " 'partnerGender',\n",
       " 'subjectGender',\n",
       " 'isMarried',\n",
       " 'subjectAge',\n",
       " 'partnerAge',\n",
       " 'subjectEduc_years',\n",
       " 'partnerEduc_years',\n",
       " 'subjectMotherEduc_years',\n",
       " 'partnerMotherEduc_years',\n",
       " 'subjectRace',\n",
       " 'partnerRace',\n",
       " 'region',\n",
       " 'straightGayLesbian',\n",
       " 'genderSubjectAttractedTo',\n",
       " 'isLivingTogether',\n",
       " 'relationshipQuality',\n",
       " 'subjectSexualIdentity',\n",
       " 'numOfHouseMembersAges0to1',\n",
       " 'numOfHouseMembersAges2to5',\n",
       " 'numOfHouseMembersAges6to12',\n",
       " 'numOfHouseMembersAges13to17',\n",
       " 'numOfHouseMembersAges18toOver',\n",
       " 'met_YearFraction',\n",
       " 'shipStart_YearFraction',\n",
       " 'met_to_shipStart_diff',\n",
       " 'moveIn_YearFraction',\n",
       " 'shipStart_to_moveIn_YearFraction',\n",
       " 'metThru_family',\n",
       " 'metThru_friend',\n",
       " 'metThru_orAs_neighbors',\n",
       " 'metThru_orAs_coworkers',\n",
       " 'metIn_school',\n",
       " 'metIn_college',\n",
       " 'metIn_military',\n",
       " 'metIn_church',\n",
       " 'metIn_voluntaryOrg',\n",
       " 'metAs_customerAndClient',\n",
       " 'metIn_restaurantOrBar',\n",
       " 'metIn_privateParty',\n",
       " 'metIn_public',\n",
       " 'metOn_blindDate',\n",
       " 'metOn_vacation',\n",
       " 'metThru_notInternetDatingService',\n",
       " 'metOn_businessTrip',\n",
       " 'metAs_coworkers',\n",
       " 'metOnline_other',\n",
       " 'metOnline_datingSiteOrApp',\n",
       " 'metOnline_socialNetwork',\n",
       " 'metOnline_gaming',\n",
       " 'metOnline_chat',\n",
       " 'metOnline_nonDatingSite',\n",
       " 'metOnline_all',\n",
       " 'subjectParty_DemPos_RepNeg',\n",
       " 'partnerParty_DemPos_RepNeg',\n",
       " 'isHispanic',\n",
       " 'partyDifference',\n",
       " 'season_met',\n",
       " 'season_shipStart',\n",
       " 'ageGap',\n",
       " 'timesDivorcedOrWidowed']"
      ]
     },
     "execution_count": 69,
     "metadata": {},
     "output_type": "execute_result"
    }
   ],
   "source": [
    "# drop num of times married\n",
    "\n",
    "df_renamed.drop(\"numOfTimesMarried\", axis=1, inplace=True)\n",
    "\n",
    "list(df_renamed.columns)"
   ]
  },
  {
   "cell_type": "markdown",
   "id": "40840d1f",
   "metadata": {},
   "source": [
    "### Create householdMinor_num"
   ]
  },
  {
   "cell_type": "code",
   "execution_count": 70,
   "id": "fb4f1311",
   "metadata": {},
   "outputs": [
    {
     "data": {
      "text/plain": [
       "array([0, 2, 3, 1, 4, 6, 5, 8], dtype=int64)"
      ]
     },
     "execution_count": 70,
     "metadata": {},
     "output_type": "execute_result"
    }
   ],
   "source": [
    "def sumMinors(row):\n",
    "    \n",
    "    columns = [\n",
    "        \"numOfHouseMembersAges0to1\",\n",
    "        \"numOfHouseMembersAges2to5\",\n",
    "        \"numOfHouseMembersAges6to12\",\n",
    "        \"numOfHouseMembersAges13to17\"\n",
    "    ]\n",
    "    \n",
    "    return sum(row[columns])\n",
    "\n",
    "\n",
    "df_renamed[\"householdMinor_num\"] = df_renamed.apply(sumMinors, axis=1)\n",
    "\n",
    "df_renamed[\"householdMinor_num\"].unique()"
   ]
  },
  {
   "cell_type": "markdown",
   "id": "567318dc",
   "metadata": {},
   "source": [
    "### Create householdAdults_num\n",
    "\n",
    "- Includes the subject. (And possibly the partner if they live together.)"
   ]
  },
  {
   "cell_type": "code",
   "execution_count": 71,
   "id": "f5fcc5d0",
   "metadata": {},
   "outputs": [
    {
     "data": {
      "text/plain": [
       "[1, 2, 3, 4, 5, 7, 6, 8, 12, 9]\n",
       "Categories (10, int64): [1 < 2 < 3 < 4 ... 7 < 8 < 9 < 12]"
      ]
     },
     "execution_count": 71,
     "metadata": {},
     "output_type": "execute_result"
    }
   ],
   "source": [
    "df_renamed[\"householdAdults_num\"] = df_renamed.copy()[\"numOfHouseMembersAges18toOver\"]\n",
    "\n",
    "df_renamed[\"householdAdults_num\"].unique()"
   ]
  },
  {
   "cell_type": "code",
   "execution_count": 72,
   "id": "e5830c5f",
   "metadata": {
    "scrolled": true
   },
   "outputs": [
    {
     "data": {
      "text/plain": [
       "['ID',\n",
       " 'sexFrequency',\n",
       " 'attendReligiousServiceFreq',\n",
       " 'householdSize',\n",
       " 'houseType',\n",
       " 'householdIncome',\n",
       " 'isMetroArea',\n",
       " 'ownHouseRentOther',\n",
       " 'employmentStatus',\n",
       " 'subjectGrewUpInUS',\n",
       " 'subjectCountryWhenMetPartner',\n",
       " 'numRelativesSeePerMonth',\n",
       " 'whoEarnedMore',\n",
       " 'interracial',\n",
       " 'subjectAgeWhenMet',\n",
       " 'partnerGender',\n",
       " 'subjectGender',\n",
       " 'isMarried',\n",
       " 'subjectAge',\n",
       " 'partnerAge',\n",
       " 'subjectEduc_years',\n",
       " 'partnerEduc_years',\n",
       " 'subjectMotherEduc_years',\n",
       " 'partnerMotherEduc_years',\n",
       " 'subjectRace',\n",
       " 'partnerRace',\n",
       " 'region',\n",
       " 'straightGayLesbian',\n",
       " 'genderSubjectAttractedTo',\n",
       " 'isLivingTogether',\n",
       " 'relationshipQuality',\n",
       " 'subjectSexualIdentity',\n",
       " 'met_YearFraction',\n",
       " 'shipStart_YearFraction',\n",
       " 'met_to_shipStart_diff',\n",
       " 'moveIn_YearFraction',\n",
       " 'shipStart_to_moveIn_YearFraction',\n",
       " 'metThru_family',\n",
       " 'metThru_friend',\n",
       " 'metThru_orAs_neighbors',\n",
       " 'metThru_orAs_coworkers',\n",
       " 'metIn_school',\n",
       " 'metIn_college',\n",
       " 'metIn_military',\n",
       " 'metIn_church',\n",
       " 'metIn_voluntaryOrg',\n",
       " 'metAs_customerAndClient',\n",
       " 'metIn_restaurantOrBar',\n",
       " 'metIn_privateParty',\n",
       " 'metIn_public',\n",
       " 'metOn_blindDate',\n",
       " 'metOn_vacation',\n",
       " 'metThru_notInternetDatingService',\n",
       " 'metOn_businessTrip',\n",
       " 'metAs_coworkers',\n",
       " 'metOnline_other',\n",
       " 'metOnline_datingSiteOrApp',\n",
       " 'metOnline_socialNetwork',\n",
       " 'metOnline_gaming',\n",
       " 'metOnline_chat',\n",
       " 'metOnline_nonDatingSite',\n",
       " 'metOnline_all',\n",
       " 'subjectParty_DemPos_RepNeg',\n",
       " 'partnerParty_DemPos_RepNeg',\n",
       " 'isHispanic',\n",
       " 'partyDifference',\n",
       " 'season_met',\n",
       " 'season_shipStart',\n",
       " 'ageGap',\n",
       " 'timesDivorcedOrWidowed',\n",
       " 'householdMinor_num',\n",
       " 'householdAdults_num']"
      ]
     },
     "execution_count": 72,
     "metadata": {},
     "output_type": "execute_result"
    }
   ],
   "source": [
    "# Drop all household count columns\n",
    "\n",
    "columns = [\n",
    "        \"numOfHouseMembersAges0to1\",\n",
    "        \"numOfHouseMembersAges2to5\",\n",
    "        \"numOfHouseMembersAges6to12\",\n",
    "        \"numOfHouseMembersAges13to17\",\n",
    "        \"numOfHouseMembersAges18toOver\"\n",
    "    ]\n",
    "\n",
    "df_renamed.drop(columns, axis=1, inplace=True)\n",
    "\n",
    "list(df_renamed.columns)"
   ]
  },
  {
   "cell_type": "markdown",
   "id": "f639d8ee",
   "metadata": {},
   "source": [
    "---\n",
    "---\n",
    "\n",
    "# Create Labels"
   ]
  },
  {
   "cell_type": "markdown",
   "id": "4047fe16",
   "metadata": {},
   "source": [
    "### Before creating new columns from RelationshipQuality, Remove all cases of nan or refused\n",
    "\n",
    "- The main focus of this project will be on RelationshipQuality\n",
    "\n",
    "- All missing values should be removed"
   ]
  },
  {
   "cell_type": "code",
   "execution_count": 73,
   "id": "bdb0e153",
   "metadata": {},
   "outputs": [
    {
     "name": "stdout",
     "output_type": "stream",
     "text": [
      "(3391, 72)\n",
      "(2844, 72)\n"
     ]
    }
   ],
   "source": [
    "valid_options = [\"Excellent\", \"Good\", \"Fair\", \"Poor\", \"Very Poor\"]\n",
    "\n",
    "isValid = df_renamed[\"relationshipQuality\"].isin(valid_options)\n",
    "\n",
    "print(df_renamed.shape)\n",
    "\n",
    "df_renamed = df_renamed[isValid]\n",
    "\n",
    "print(df_renamed.shape)"
   ]
  },
  {
   "cell_type": "markdown",
   "id": "7356d643",
   "metadata": {},
   "source": [
    "### Create Continuous Variable (From relationshipQuality)\n",
    "\n",
    "- For regression"
   ]
  },
  {
   "cell_type": "code",
   "execution_count": 74,
   "id": "ce93b415",
   "metadata": {},
   "outputs": [
    {
     "data": {
      "text/html": [
       "<div>\n",
       "<style scoped>\n",
       "    .dataframe tbody tr th:only-of-type {\n",
       "        vertical-align: middle;\n",
       "    }\n",
       "\n",
       "    .dataframe tbody tr th {\n",
       "        vertical-align: top;\n",
       "    }\n",
       "\n",
       "    .dataframe thead th {\n",
       "        text-align: right;\n",
       "    }\n",
       "</style>\n",
       "<table border=\"1\" class=\"dataframe\">\n",
       "  <thead>\n",
       "    <tr style=\"text-align: right;\">\n",
       "      <th></th>\n",
       "      <th>relationshipQuality</th>\n",
       "      <th>relationshipQuality_num</th>\n",
       "    </tr>\n",
       "  </thead>\n",
       "  <tbody>\n",
       "    <tr>\n",
       "      <th>1</th>\n",
       "      <td>Excellent</td>\n",
       "      <td>5</td>\n",
       "    </tr>\n",
       "    <tr>\n",
       "      <th>2</th>\n",
       "      <td>Good</td>\n",
       "      <td>4</td>\n",
       "    </tr>\n",
       "    <tr>\n",
       "      <th>4</th>\n",
       "      <td>Excellent</td>\n",
       "      <td>5</td>\n",
       "    </tr>\n",
       "  </tbody>\n",
       "</table>\n",
       "</div>"
      ],
      "text/plain": [
       "  relationshipQuality  relationshipQuality_num\n",
       "1           Excellent                        5\n",
       "2                Good                        4\n",
       "4           Excellent                        5"
      ]
     },
     "execution_count": 74,
     "metadata": {},
     "output_type": "execute_result"
    }
   ],
   "source": [
    "numeric_ratings = {\n",
    "    \"Excellent\": 5,\n",
    "    \"Good\": 4,\n",
    "    \"Fair\": 3,\n",
    "    \"Poor\": 2,\n",
    "    \"Very Poor\": 1\n",
    "}\n",
    "\n",
    "df_renamed[\"relationshipQuality_num\"] = df_renamed[\"relationshipQuality\"].copy()\n",
    "\n",
    "df_renamed[\"relationshipQuality_num\"].replace(numeric_ratings, inplace=True)\n",
    "\n",
    "df_renamed[\"relationshipQuality_num\"] = pd.to_numeric(df_renamed[\"relationshipQuality_num\"])\n",
    "\n",
    "df_renamed[[\"relationshipQuality\", \"relationshipQuality_num\"]].head(3)"
   ]
  },
  {
   "cell_type": "code",
   "execution_count": 75,
   "id": "cdae677c",
   "metadata": {},
   "outputs": [
    {
     "data": {
      "text/plain": [
       "[5, 4, 3, 1, 2]"
      ]
     },
     "execution_count": 75,
     "metadata": {},
     "output_type": "execute_result"
    }
   ],
   "source": [
    "list(df_renamed[\"relationshipQuality_num\"].unique())"
   ]
  },
  {
   "cell_type": "markdown",
   "id": "08c197de",
   "metadata": {},
   "source": [
    "### Create Categorical Binary Variable (From relationshipQuality)\n",
    "\n",
    "- For classification"
   ]
  },
  {
   "cell_type": "code",
   "execution_count": 76,
   "id": "a30420f3",
   "metadata": {},
   "outputs": [
    {
     "data": {
      "text/html": [
       "<div>\n",
       "<style scoped>\n",
       "    .dataframe tbody tr th:only-of-type {\n",
       "        vertical-align: middle;\n",
       "    }\n",
       "\n",
       "    .dataframe tbody tr th {\n",
       "        vertical-align: top;\n",
       "    }\n",
       "\n",
       "    .dataframe thead th {\n",
       "        text-align: right;\n",
       "    }\n",
       "</style>\n",
       "<table border=\"1\" class=\"dataframe\">\n",
       "  <thead>\n",
       "    <tr style=\"text-align: right;\">\n",
       "      <th></th>\n",
       "      <th>relationshipQuality</th>\n",
       "      <th>relationshipQuality_num</th>\n",
       "      <th>relationshipQuality_isGood</th>\n",
       "    </tr>\n",
       "  </thead>\n",
       "  <tbody>\n",
       "    <tr>\n",
       "      <th>1</th>\n",
       "      <td>Excellent</td>\n",
       "      <td>5</td>\n",
       "      <td>1</td>\n",
       "    </tr>\n",
       "    <tr>\n",
       "      <th>2</th>\n",
       "      <td>Good</td>\n",
       "      <td>4</td>\n",
       "      <td>1</td>\n",
       "    </tr>\n",
       "    <tr>\n",
       "      <th>4</th>\n",
       "      <td>Excellent</td>\n",
       "      <td>5</td>\n",
       "      <td>1</td>\n",
       "    </tr>\n",
       "  </tbody>\n",
       "</table>\n",
       "</div>"
      ],
      "text/plain": [
       "  relationshipQuality  relationshipQuality_num  relationshipQuality_isGood\n",
       "1           Excellent                        5                           1\n",
       "2                Good                        4                           1\n",
       "4           Excellent                        5                           1"
      ]
     },
     "execution_count": 76,
     "metadata": {},
     "output_type": "execute_result"
    }
   ],
   "source": [
    "is_good = {\n",
    "    \"Excellent\": 1,\n",
    "    \"Good\": 1,\n",
    "    \"Fair\": 0,\n",
    "    \"Very Poor\": 0,\n",
    "    \"Poor\": 0\n",
    "}\n",
    "\n",
    "df_renamed[\"relationshipQuality_isGood\"] = df_renamed[\"relationshipQuality\"].copy()\n",
    "\n",
    "df_renamed[\"relationshipQuality_isGood\"].replace(is_good, inplace=True)\n",
    "\n",
    "df_renamed[\"relationshipQuality_isGood\"] = pd.to_numeric(df_renamed[\"relationshipQuality_isGood\"])\n",
    "\n",
    "df_renamed[[\"relationshipQuality\", \"relationshipQuality_num\", \"relationshipQuality_isGood\"]].head(3)"
   ]
  },
  {
   "cell_type": "code",
   "execution_count": 77,
   "id": "c4fe0cc2",
   "metadata": {},
   "outputs": [
    {
     "data": {
      "text/plain": [
       "[1, 0]"
      ]
     },
     "execution_count": 77,
     "metadata": {},
     "output_type": "execute_result"
    }
   ],
   "source": [
    "list(df_renamed[\"relationshipQuality_isGood\"].unique())"
   ]
  },
  {
   "cell_type": "markdown",
   "id": "22883c39",
   "metadata": {},
   "source": [
    "---\n",
    "---\n",
    "\n",
    "# Export \"df_renamed\" to CSV\n",
    "\n",
    "**So I can use the use the CSV in seperate notebooks for:**\n",
    "\n",
    "- Exploratory analysis\n",
    "- Unsupervised learning\n",
    "- Regression (Supervised Learning)\n",
    "- Classification (Supervised Learning)"
   ]
  },
  {
   "cell_type": "code",
   "execution_count": 78,
   "id": "2bc483a6",
   "metadata": {
    "scrolled": true
   },
   "outputs": [
    {
     "data": {
      "text/plain": [
       "['ID',\n",
       " 'ageGap',\n",
       " 'attendReligiousServiceFreq',\n",
       " 'employmentStatus',\n",
       " 'genderSubjectAttractedTo',\n",
       " 'houseType',\n",
       " 'householdAdults_num',\n",
       " 'householdIncome',\n",
       " 'householdMinor_num',\n",
       " 'householdSize',\n",
       " 'interracial',\n",
       " 'isHispanic',\n",
       " 'isLivingTogether',\n",
       " 'isMarried',\n",
       " 'isMetroArea',\n",
       " 'metAs_coworkers',\n",
       " 'metAs_customerAndClient',\n",
       " 'metIn_church',\n",
       " 'metIn_college',\n",
       " 'metIn_military',\n",
       " 'metIn_privateParty',\n",
       " 'metIn_public',\n",
       " 'metIn_restaurantOrBar',\n",
       " 'metIn_school',\n",
       " 'metIn_voluntaryOrg',\n",
       " 'metOn_blindDate',\n",
       " 'metOn_businessTrip',\n",
       " 'metOn_vacation',\n",
       " 'metOnline_all',\n",
       " 'metOnline_chat',\n",
       " 'metOnline_datingSiteOrApp',\n",
       " 'metOnline_gaming',\n",
       " 'metOnline_nonDatingSite',\n",
       " 'metOnline_other',\n",
       " 'metOnline_socialNetwork',\n",
       " 'metThru_family',\n",
       " 'metThru_friend',\n",
       " 'metThru_notInternetDatingService',\n",
       " 'metThru_orAs_coworkers',\n",
       " 'metThru_orAs_neighbors',\n",
       " 'met_YearFraction',\n",
       " 'met_to_shipStart_diff',\n",
       " 'moveIn_YearFraction',\n",
       " 'numRelativesSeePerMonth',\n",
       " 'ownHouseRentOther',\n",
       " 'partnerAge',\n",
       " 'partnerEduc_years',\n",
       " 'partnerGender',\n",
       " 'partnerMotherEduc_years',\n",
       " 'partnerParty_DemPos_RepNeg',\n",
       " 'partnerRace',\n",
       " 'partyDifference',\n",
       " 'region',\n",
       " 'relationshipQuality',\n",
       " 'relationshipQuality_isGood',\n",
       " 'relationshipQuality_num',\n",
       " 'season_met',\n",
       " 'season_shipStart',\n",
       " 'sexFrequency',\n",
       " 'shipStart_YearFraction',\n",
       " 'shipStart_to_moveIn_YearFraction',\n",
       " 'straightGayLesbian',\n",
       " 'subjectAge',\n",
       " 'subjectAgeWhenMet',\n",
       " 'subjectCountryWhenMetPartner',\n",
       " 'subjectEduc_years',\n",
       " 'subjectGender',\n",
       " 'subjectGrewUpInUS',\n",
       " 'subjectMotherEduc_years',\n",
       " 'subjectParty_DemPos_RepNeg',\n",
       " 'subjectRace',\n",
       " 'subjectSexualIdentity',\n",
       " 'timesDivorcedOrWidowed',\n",
       " 'whoEarnedMore']"
      ]
     },
     "execution_count": 78,
     "metadata": {},
     "output_type": "execute_result"
    }
   ],
   "source": [
    "# alphbetize column names\n",
    "\n",
    "df_renamed = df_renamed.sort_index(axis=1)\n",
    "\n",
    "list(df_renamed.columns)"
   ]
  },
  {
   "cell_type": "code",
   "execution_count": 79,
   "id": "13c09d87",
   "metadata": {},
   "outputs": [],
   "source": [
    "# Export\n",
    "\n",
    "df_renamed.to_csv(\"data/df_renamed.csv\")"
   ]
  }
 ],
 "metadata": {
  "kernelspec": {
   "display_name": "Python 3 (ipykernel)",
   "language": "python",
   "name": "python3"
  },
  "language_info": {
   "codemirror_mode": {
    "name": "ipython",
    "version": 3
   },
   "file_extension": ".py",
   "mimetype": "text/x-python",
   "name": "python",
   "nbconvert_exporter": "python",
   "pygments_lexer": "ipython3",
   "version": "3.9.7"
  }
 },
 "nbformat": 4,
 "nbformat_minor": 5
}
