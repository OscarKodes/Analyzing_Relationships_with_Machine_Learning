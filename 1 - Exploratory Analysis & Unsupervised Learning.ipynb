{
 "cells": [
  {
   "cell_type": "markdown",
   "id": "953e7b4b",
   "metadata": {},
   "source": [
    "# Exploratory Analysis & Unsupervised Learning\n",
    "\n",
    "By: Oscar Ko\n",
    "\n",
    "This notebook is created for initial data preperation on this dataset from Stanford.\n",
    "\n",
    "https://data.stanford.edu/hcmst2017\n",
    "\n",
    "---\n",
    "---"
   ]
  },
  {
   "cell_type": "markdown",
   "id": "e2aa00b5",
   "metadata": {},
   "source": [
    "# Imports and Data"
   ]
  },
  {
   "cell_type": "code",
   "execution_count": 1,
   "id": "f6b994d7",
   "metadata": {
    "scrolled": true
   },
   "outputs": [
    {
     "name": "stdout",
     "output_type": "stream",
     "text": [
      "(2844, 79) \n",
      "\n",
      "<class 'pandas.core.frame.DataFrame'>\n",
      "RangeIndex: 2844 entries, 0 to 2843\n",
      "Data columns (total 79 columns):\n",
      " #   Column                            Non-Null Count  Dtype  \n",
      "---  ------                            --------------  -----  \n",
      " 0   Unnamed: 0                        2844 non-null   int64  \n",
      " 1   ID                                2844 non-null   int64  \n",
      " 2   ageWhenMet                        2810 non-null   float64\n",
      " 3   attendReligiousServiceFreq        2844 non-null   object \n",
      " 4   employmentStatus                  2844 non-null   object \n",
      " 5   genderSubjectAttractedTo          2837 non-null   object \n",
      " 6   houseType                         2844 non-null   object \n",
      " 7   householdIncome                   2844 non-null   object \n",
      " 8   householdSize                     2844 non-null   int64  \n",
      " 9   interracial                       2822 non-null   object \n",
      " 10  isHispanic                        2844 non-null   bool   \n",
      " 11  isLivingTogether                  2844 non-null   object \n",
      " 12  isMarried                         2844 non-null   object \n",
      " 13  isMetroArea                       2844 non-null   object \n",
      " 14  metAs_coworkers                   2780 non-null   object \n",
      " 15  metAs_customerAndClient           2780 non-null   object \n",
      " 16  metAs_workNeighbors               2780 non-null   object \n",
      " 17  metIn_church                      2780 non-null   object \n",
      " 18  metIn_college                     2780 non-null   object \n",
      " 19  metIn_military                    2780 non-null   object \n",
      " 20  metIn_privateParty                2780 non-null   object \n",
      " 21  metIn_public                      2780 non-null   object \n",
      " 22  metIn_restaurantOrBar             2780 non-null   object \n",
      " 23  metIn_school                      2780 non-null   object \n",
      " 24  metIn_voluntaryOrg                2780 non-null   object \n",
      " 25  metOn_blindDate                   2780 non-null   object \n",
      " 26  metOn_businessTrip                2780 non-null   object \n",
      " 27  metOn_vacation                    2780 non-null   object \n",
      " 28  metOnline_all                     2844 non-null   object \n",
      " 29  metOnline_chat                    2780 non-null   object \n",
      " 30  metOnline_datingSiteOrApp         2780 non-null   object \n",
      " 31  metOnline_gaming                  2780 non-null   object \n",
      " 32  metOnline_nonDatingSite           2780 non-null   object \n",
      " 33  metOnline_other                   2780 non-null   object \n",
      " 34  metOnline_socialNetwork           2780 non-null   object \n",
      " 35  metThru_family                    2780 non-null   object \n",
      " 36  metThru_friend                    2780 non-null   object \n",
      " 37  metThru_notInternetDatingService  2780 non-null   object \n",
      " 38  metThru_orAs_neighbors            2780 non-null   object \n",
      " 39  met_YearFraction                  2810 non-null   float64\n",
      " 40  met_to_shipStart_diff             2747 non-null   float64\n",
      " 41  moveIn_YearFraction               2405 non-null   float64\n",
      " 42  numOfHouseMembersAges0to1         2844 non-null   int64  \n",
      " 43  numOfHouseMembersAges13to17       2844 non-null   int64  \n",
      " 44  numOfHouseMembersAges18toOver     2844 non-null   int64  \n",
      " 45  numOfHouseMembersAges2to5         2844 non-null   int64  \n",
      " 46  numOfHouseMembersAges6to12        2844 non-null   int64  \n",
      " 47  numOfTimesMarried                 2838 non-null   float64\n",
      " 48  numRelativesSeePerMonth           2827 non-null   float64\n",
      " 49  ownHouseRentOther                 2844 non-null   object \n",
      " 50  partnerAge                        2844 non-null   float64\n",
      " 51  partnerEduc_cat                   2844 non-null   object \n",
      " 52  partnerEduc_years                 2842 non-null   float64\n",
      " 53  partnerGender                     2844 non-null   object \n",
      " 54  partnerMotherEduc_cat             2844 non-null   object \n",
      " 55  partnerMotherEduc_years           2805 non-null   float64\n",
      " 56  partnerPoliticalParty             2844 non-null   object \n",
      " 57  partnerRace                       2844 non-null   object \n",
      " 58  region                            2844 non-null   object \n",
      " 59  relationshipQuality               2844 non-null   object \n",
      " 60  relationshipQuality_isGood        2844 non-null   int64  \n",
      " 61  relationshipQuality_num           2844 non-null   int64  \n",
      " 62  sexFrequency                      2844 non-null   object \n",
      " 63  shipStart_YearFraction            2757 non-null   float64\n",
      " 64  shipStart_to_moveIn_YearFraction  2354 non-null   float64\n",
      " 65  straightGayLesbian                2844 non-null   object \n",
      " 66  subjectAge                        2844 non-null   int64  \n",
      " 67  subjectCountryWhenMetPartner      2844 non-null   object \n",
      " 68  subjectEduc_cat                   2844 non-null   object \n",
      " 69  subjectEduc_years                 2844 non-null   float64\n",
      " 70  subjectGender                     2844 non-null   object \n",
      " 71  subjectGrewUpInUS                 2844 non-null   object \n",
      " 72  subjectMotherEduc_cat             2844 non-null   object \n",
      " 73  subjectMotherEduc_years           2835 non-null   float64\n",
      " 74  subjectPoliticalParty             2844 non-null   object \n",
      " 75  subjectRace                       2834 non-null   object \n",
      " 76  subjectSexualIdentity             2844 non-null   object \n",
      " 77  usedAnInternetServiceToMeet       2844 non-null   object \n",
      " 78  whoEarnedMore                     2844 non-null   object \n",
      "dtypes: bool(1), float64(13), int64(11), object(54)\n",
      "memory usage: 1.7+ MB\n"
     ]
    }
   ],
   "source": [
    "import numpy as np\n",
    "import pandas as pd\n",
    "\n",
    "import warnings\n",
    "warnings.filterwarnings('ignore')\n",
    "\n",
    "\n",
    "df = pd.read_csv(\"data/df_renamed.csv\")\n",
    "\n",
    "print(df.shape, \"\\n\")\n",
    "\n",
    "df.info(verbose=True)"
   ]
  },
  {
   "cell_type": "markdown",
   "id": "f37e2436",
   "metadata": {},
   "source": [
    "# Test-Train Stratified Split\n",
    "\n",
    "- Stratified split to ensure equal proportions of all labels in both sets.\n",
    "- Use on \"relationshipQuality_isGood\""
   ]
  },
  {
   "cell_type": "code",
   "execution_count": 4,
   "id": "0b051f55",
   "metadata": {},
   "outputs": [
    {
     "name": "stdout",
     "output_type": "stream",
     "text": [
      "X_train.shape =  (2275, 78)\n",
      "X_test.shape =  (569, 78)\n",
      "y_train.shape =  (2275,)\n",
      "y_test.shape =  (569,)\n",
      "\n",
      "\n",
      "y_train class proportions: \n",
      " 1    0.90989\n",
      "0    0.09011\n",
      "Name: relationshipQuality_isGood, dtype: float64\n",
      "\n",
      "\n",
      "y_test class proportions: \n",
      " 1    0.910369\n",
      "0    0.089631\n",
      "Name: relationshipQuality_isGood, dtype: float64\n"
     ]
    }
   ],
   "source": [
    "# import package\n",
    "from sklearn.model_selection import train_test_split\n",
    "\n",
    "\n",
    "# declare our X inputs and y outcomes\n",
    "X = df.drop(\"relationshipQuality_isGood\", axis=1)\n",
    "y = df[\"relationshipQuality_isGood\"]\n",
    "\n",
    "\n",
    "# stratify split\n",
    "X_train, X_test, y_train, y_test = train_test_split(X, \n",
    "                                                    y,\n",
    "                                                    stratify=y, \n",
    "                                                    test_size=0.2)\n",
    "\n",
    "print(\"X_train.shape = \", X_train.shape)\n",
    "print(\"X_test.shape = \", X_test.shape)\n",
    "\n",
    "print(\"y_train.shape = \", y_train.shape)\n",
    "print(\"y_test.shape = \", y_test.shape)\n",
    "\n",
    "print(\"\\n\")\n",
    "print(\"y_train class proportions: \\n\", y_train.value_counts(normalize=True))\n",
    "\n",
    "print(\"\\n\")\n",
    "print(\"y_test class proportions: \\n\", y_test.value_counts(normalize=True))"
   ]
  }
 ],
 "metadata": {
  "kernelspec": {
   "display_name": "Python 3 (ipykernel)",
   "language": "python",
   "name": "python3"
  },
  "language_info": {
   "codemirror_mode": {
    "name": "ipython",
    "version": 3
   },
   "file_extension": ".py",
   "mimetype": "text/x-python",
   "name": "python",
   "nbconvert_exporter": "python",
   "pygments_lexer": "ipython3",
   "version": "3.9.7"
  }
 },
 "nbformat": 4,
 "nbformat_minor": 5
}
